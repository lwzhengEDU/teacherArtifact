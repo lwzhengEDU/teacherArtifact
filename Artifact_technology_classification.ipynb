{
 "cells": [
  {
   "cell_type": "code",
   "execution_count": 1,
   "metadata": {},
   "outputs": [],
   "source": [
    "%reload_ext autoreload\n",
    "%autoreload 2\n",
    "%matplotlib inline"
   ]
  },
  {
   "cell_type": "code",
   "execution_count": 2,
   "metadata": {},
   "outputs": [],
   "source": [
    "from fastai.vision import *\n",
    "from fastai.tabular import *"
   ]
  },
  {
   "cell_type": "code",
   "execution_count": 3,
   "metadata": {},
   "outputs": [],
   "source": [
    "# from image_tabular.core import *\n",
    "# from image_tabular.dataset import *\n",
    "# from image_tabular.model import *\n",
    "# from image_tabular.metric import *\n",
    "from importlib import reload\n",
    "\n",
    "import image_tabular.core;reload(image_tabular.core)\n",
    "from image_tabular.core import *\n",
    "\n",
    "import image_tabular.dataset;reload(image_tabular.dataset)\n",
    "from image_tabular.dataset import *\n",
    "\n",
    "\n",
    "import image_tabular.model;reload(image_tabular.model)\n",
    "from image_tabular.model import *\n",
    "\n",
    "\n",
    "import image_tabular.metric;reload(image_tabular.metric)\n",
    "from image_tabular.metric import *"
   ]
  },
  {
   "cell_type": "code",
   "execution_count": 5,
   "metadata": {},
   "outputs": [],
   "source": [
    "# use gpu by default if available\n",
    "device = torch.device('cuda:0' if torch.cuda.is_available() else 'cpu')"
   ]
  },
  {
   "cell_type": "code",
   "execution_count": 6,
   "metadata": {},
   "outputs": [],
   "source": [
    "import warnings\n",
    "warnings.filterwarnings(\"ignore\", category=UserWarning, module=\"torch.nn.functional\")"
   ]
  },
  {
   "cell_type": "code",
   "execution_count": 7,
   "metadata": {},
   "outputs": [],
   "source": [
    "data_path = Path(\"./data/artifact-technology-classification/\")"
   ]
  },
  {
   "cell_type": "code",
   "execution_count": 8,
   "metadata": {},
   "outputs": [
    {
     "name": "stdout",
     "output_type": "stream",
     "text": [
      "100 24\n"
     ]
    }
   ],
   "source": [
    "train_df = pd.read_csv(data_path/\"train_df.csv\",index_col=0)\n",
    "test_df = pd.read_csv(data_path/\"test_df.csv\",index_col=0)\n",
    "\n",
    "print(len(train_df), len(test_df))"
   ]
  },
  {
   "cell_type": "code",
   "execution_count": 10,
   "metadata": {},
   "outputs": [],
   "source": [
    "train_df['target'] = train_df['cat'].map({'self_created':1,'other':0})"
   ]
  },
  {
   "cell_type": "code",
   "execution_count": 11,
   "metadata": {},
   "outputs": [
    {
     "data": {
      "text/plain": [
       "0    0.52\n",
       "1    0.48\n",
       "Name: target, dtype: float64"
      ]
     },
     "execution_count": 11,
     "metadata": {},
     "output_type": "execute_result"
    }
   ],
   "source": [
    "# extremely unbalanced dataset, most of the images are benign\n",
    "train_df[\"target\"].value_counts(normalize=True)"
   ]
  },
  {
   "cell_type": "code",
   "execution_count": 35,
   "metadata": {},
   "outputs": [
    {
     "data": {
      "text/html": [
       "<div>\n",
       "<style scoped>\n",
       "    .dataframe tbody tr th:only-of-type {\n",
       "        vertical-align: middle;\n",
       "    }\n",
       "\n",
       "    .dataframe tbody tr th {\n",
       "        vertical-align: top;\n",
       "    }\n",
       "\n",
       "    .dataframe thead th {\n",
       "        text-align: right;\n",
       "    }\n",
       "</style>\n",
       "<table border=\"1\" class=\"dataframe\">\n",
       "  <thead>\n",
       "    <tr style=\"text-align: right;\">\n",
       "      <th></th>\n",
       "      <th>artifact_id</th>\n",
       "      <th>in-class_submissions</th>\n",
       "      <th>after-class_submisson</th>\n",
       "      <th>sharing_outcomes</th>\n",
       "      <th>student_discussions</th>\n",
       "      <th>learning_groups</th>\n",
       "      <th>cat</th>\n",
       "      <th>wv_0</th>\n",
       "      <th>wv_1</th>\n",
       "      <th>wv_2</th>\n",
       "      <th>...</th>\n",
       "      <th>wv_291</th>\n",
       "      <th>wv_292</th>\n",
       "      <th>wv_293</th>\n",
       "      <th>wv_294</th>\n",
       "      <th>wv_295</th>\n",
       "      <th>wv_296</th>\n",
       "      <th>wv_297</th>\n",
       "      <th>wv_298</th>\n",
       "      <th>wv_299</th>\n",
       "      <th>target</th>\n",
       "    </tr>\n",
       "  </thead>\n",
       "  <tbody>\n",
       "    <tr>\n",
       "      <th>57</th>\n",
       "      <td>5cd9c17c-58d3-489d-9792-5508f81bb787</td>\n",
       "      <td>0.0</td>\n",
       "      <td>0.0</td>\n",
       "      <td>24.0</td>\n",
       "      <td>8.0</td>\n",
       "      <td>2.0</td>\n",
       "      <td>self_created</td>\n",
       "      <td>0.070218</td>\n",
       "      <td>-0.102515</td>\n",
       "      <td>-0.016235</td>\n",
       "      <td>...</td>\n",
       "      <td>0.024171</td>\n",
       "      <td>0.040959</td>\n",
       "      <td>0.081752</td>\n",
       "      <td>0.072646</td>\n",
       "      <td>0.027733</td>\n",
       "      <td>0.045051</td>\n",
       "      <td>-0.081938</td>\n",
       "      <td>0.047864</td>\n",
       "      <td>-0.038240</td>\n",
       "      <td>1</td>\n",
       "    </tr>\n",
       "    <tr>\n",
       "      <th>38</th>\n",
       "      <td>0e66cb40-5c24-4fab-9c61-3d7ae68912ef</td>\n",
       "      <td>57.0</td>\n",
       "      <td>0.0</td>\n",
       "      <td>0.0</td>\n",
       "      <td>0.0</td>\n",
       "      <td>0.0</td>\n",
       "      <td>self_created</td>\n",
       "      <td>0.187361</td>\n",
       "      <td>-0.290223</td>\n",
       "      <td>-0.006974</td>\n",
       "      <td>...</td>\n",
       "      <td>-0.076416</td>\n",
       "      <td>0.056014</td>\n",
       "      <td>0.028710</td>\n",
       "      <td>0.266044</td>\n",
       "      <td>0.059166</td>\n",
       "      <td>0.126273</td>\n",
       "      <td>0.067106</td>\n",
       "      <td>-0.002292</td>\n",
       "      <td>-0.264407</td>\n",
       "      <td>1</td>\n",
       "    </tr>\n",
       "    <tr>\n",
       "      <th>95</th>\n",
       "      <td>bad61580-cf32-46f4-9b1e-8cefbd7d18a3</td>\n",
       "      <td>0.0</td>\n",
       "      <td>18.0</td>\n",
       "      <td>0.0</td>\n",
       "      <td>0.0</td>\n",
       "      <td>0.0</td>\n",
       "      <td>other</td>\n",
       "      <td>0.133336</td>\n",
       "      <td>-0.287600</td>\n",
       "      <td>-0.057537</td>\n",
       "      <td>...</td>\n",
       "      <td>0.006637</td>\n",
       "      <td>-0.008706</td>\n",
       "      <td>0.118841</td>\n",
       "      <td>0.116768</td>\n",
       "      <td>-0.185281</td>\n",
       "      <td>0.009150</td>\n",
       "      <td>0.158298</td>\n",
       "      <td>-0.356028</td>\n",
       "      <td>0.069724</td>\n",
       "      <td>0</td>\n",
       "    </tr>\n",
       "    <tr>\n",
       "      <th>76</th>\n",
       "      <td>fff3970c-abd2-4f39-85f6-739e0d50a090</td>\n",
       "      <td>0.0</td>\n",
       "      <td>30.0</td>\n",
       "      <td>0.0</td>\n",
       "      <td>0.0</td>\n",
       "      <td>0.0</td>\n",
       "      <td>other</td>\n",
       "      <td>0.206696</td>\n",
       "      <td>-0.353678</td>\n",
       "      <td>0.042312</td>\n",
       "      <td>...</td>\n",
       "      <td>-0.063292</td>\n",
       "      <td>0.066468</td>\n",
       "      <td>-0.026278</td>\n",
       "      <td>0.028213</td>\n",
       "      <td>0.053822</td>\n",
       "      <td>-0.092839</td>\n",
       "      <td>0.085687</td>\n",
       "      <td>-0.094358</td>\n",
       "      <td>-0.018746</td>\n",
       "      <td>0</td>\n",
       "    </tr>\n",
       "    <tr>\n",
       "      <th>89</th>\n",
       "      <td>e7753e34-c9db-4d10-88ba-895ae77971ef</td>\n",
       "      <td>0.0</td>\n",
       "      <td>0.0</td>\n",
       "      <td>0.0</td>\n",
       "      <td>0.0</td>\n",
       "      <td>0.0</td>\n",
       "      <td>other</td>\n",
       "      <td>0.286179</td>\n",
       "      <td>0.026915</td>\n",
       "      <td>0.072522</td>\n",
       "      <td>...</td>\n",
       "      <td>0.007721</td>\n",
       "      <td>-0.194561</td>\n",
       "      <td>0.009524</td>\n",
       "      <td>0.030890</td>\n",
       "      <td>0.110367</td>\n",
       "      <td>0.106582</td>\n",
       "      <td>0.063954</td>\n",
       "      <td>-0.056724</td>\n",
       "      <td>0.090624</td>\n",
       "      <td>0</td>\n",
       "    </tr>\n",
       "  </tbody>\n",
       "</table>\n",
       "<p>5 rows × 308 columns</p>\n",
       "</div>"
      ],
      "text/plain": [
       "                             artifact_id  in-class_submissions  \\\n",
       "57  5cd9c17c-58d3-489d-9792-5508f81bb787                   0.0   \n",
       "38  0e66cb40-5c24-4fab-9c61-3d7ae68912ef                  57.0   \n",
       "95  bad61580-cf32-46f4-9b1e-8cefbd7d18a3                   0.0   \n",
       "76  fff3970c-abd2-4f39-85f6-739e0d50a090                   0.0   \n",
       "89  e7753e34-c9db-4d10-88ba-895ae77971ef                   0.0   \n",
       "\n",
       "    after-class_submisson  sharing_outcomes  student_discussions  \\\n",
       "57                    0.0              24.0                  8.0   \n",
       "38                    0.0               0.0                  0.0   \n",
       "95                   18.0               0.0                  0.0   \n",
       "76                   30.0               0.0                  0.0   \n",
       "89                    0.0               0.0                  0.0   \n",
       "\n",
       "    learning_groups           cat      wv_0      wv_1      wv_2  ...  \\\n",
       "57              2.0  self_created  0.070218 -0.102515 -0.016235  ...   \n",
       "38              0.0  self_created  0.187361 -0.290223 -0.006974  ...   \n",
       "95              0.0         other  0.133336 -0.287600 -0.057537  ...   \n",
       "76              0.0         other  0.206696 -0.353678  0.042312  ...   \n",
       "89              0.0         other  0.286179  0.026915  0.072522  ...   \n",
       "\n",
       "      wv_291    wv_292    wv_293    wv_294    wv_295    wv_296    wv_297  \\\n",
       "57  0.024171  0.040959  0.081752  0.072646  0.027733  0.045051 -0.081938   \n",
       "38 -0.076416  0.056014  0.028710  0.266044  0.059166  0.126273  0.067106   \n",
       "95  0.006637 -0.008706  0.118841  0.116768 -0.185281  0.009150  0.158298   \n",
       "76 -0.063292  0.066468 -0.026278  0.028213  0.053822 -0.092839  0.085687   \n",
       "89  0.007721 -0.194561  0.009524  0.030890  0.110367  0.106582  0.063954   \n",
       "\n",
       "      wv_298    wv_299  target  \n",
       "57  0.047864 -0.038240       1  \n",
       "38 -0.002292 -0.264407       1  \n",
       "95 -0.356028  0.069724       0  \n",
       "76 -0.094358 -0.018746       0  \n",
       "89 -0.056724  0.090624       0  \n",
       "\n",
       "[5 rows x 308 columns]"
      ]
     },
     "execution_count": 35,
     "metadata": {},
     "output_type": "execute_result"
    }
   ],
   "source": [
    "train_df.head()"
   ]
  },
  {
   "cell_type": "markdown",
   "metadata": {},
   "source": [
    "## Image data"
   ]
  },
  {
   "cell_type": "code",
   "execution_count": 12,
   "metadata": {},
   "outputs": [],
   "source": [
    "tfms = get_transforms(do_flip=False, max_rotate=1.)\n",
    "size = 128"
   ]
  },
  {
   "cell_type": "code",
   "execution_count": 13,
   "metadata": {},
   "outputs": [
    {
     "data": {
      "text/plain": [
       "20"
      ]
     },
     "execution_count": 13,
     "metadata": {},
     "output_type": "execute_result"
    }
   ],
   "source": [
    "# idx for validation, shared by image and tabular data\n",
    "val_idx = get_valid_index(train_df)\n",
    "len(val_idx)"
   ]
  },
  {
   "cell_type": "code",
   "execution_count": 14,
   "metadata": {},
   "outputs": [
    {
     "data": {
      "text/plain": [
       "LabelLists;\n",
       "\n",
       "Train: LabelList (80 items)\n",
       "x: ImageList\n",
       "Image (3, 128, 128),Image (3, 128, 128),Image (3, 128, 128),Image (3, 128, 128),Image (3, 128, 128)\n",
       "y: CategoryList\n",
       "1,1,0,0,1\n",
       "Path: data/artifact-technology-classification;\n",
       "\n",
       "Valid: LabelList (20 items)\n",
       "x: ImageList\n",
       "Image (3, 128, 128),Image (3, 128, 128),Image (3, 128, 128),Image (3, 128, 128),Image (3, 128, 128)\n",
       "y: CategoryList\n",
       "0,1,0,1,0\n",
       "Path: data/artifact-technology-classification;\n",
       "\n",
       "Test: LabelList (24 items)\n",
       "x: ImageList\n",
       "Image (3, 128, 128),Image (3, 128, 128),Image (3, 128, 128),Image (3, 128, 128),Image (3, 128, 128)\n",
       "y: EmptyLabelList\n",
       ",,,,\n",
       "Path: data/artifact-technology-classification"
      ]
     },
     "execution_count": 14,
     "metadata": {},
     "output_type": "execute_result"
    }
   ],
   "source": [
    "# load image data using train_df and prepare fastai LabelLists\n",
    "image_data = (ImageList.from_df(train_df, path=data_path, cols=\"artifact_id\",\n",
    "                               folder=\"train\", suffix=\".jpg\")\n",
    "              .split_by_idx(val_idx)\n",
    "              .label_from_df(cols=\"target\")\n",
    "              .transform(tfms, size=size))\n",
    "\n",
    "# add test data so that we can make predictions\n",
    "test_image_data = ImageList.from_df(test_df, path=data_path, cols=\"artifact_id\",\n",
    "                                    folder=\"test\", suffix=\".jpg\")\n",
    "image_data.add_test(test_image_data)"
   ]
  },
  {
   "cell_type": "code",
   "execution_count": 15,
   "metadata": {},
   "outputs": [
    {
     "name": "stdout",
     "output_type": "stream",
     "text": [
      "1\n"
     ]
    },
    {
     "data": {
      "image/jpeg": "[encoded data removed]",
      "image/png": "[encoded data removed]",
      "text/plain": [
       "Image (3, 128, 128)"
      ]
     },
     "execution_count": 15,
     "metadata": {},
     "output_type": "execute_result"
    }
   ],
   "source": [
    "# show one example image\n",
    "print(image_data.train[0][1])\n",
    "image_data.train[0][0]"
   ]
  },
  {
   "cell_type": "markdown",
   "metadata": {},
   "source": [
    "## Tabular data"
   ]
  },
  {
   "cell_type": "code",
   "execution_count": 16,
   "metadata": {},
   "outputs": [],
   "source": [
    "dep_var = 'target'\n",
    "# cat_names = []\n",
    "cont_names = ['in-class_submissions', 'after-class_submisson', 'sharing_outcomes', 'student_discussions', 'learning_groups']+['wv_{}'.format(i) for i in np.arange(300)]\n",
    "procs = [FillMissing, Categorify, Normalize]"
   ]
  },
  {
   "cell_type": "code",
   "execution_count": 17,
   "metadata": {},
   "outputs": [],
   "source": [
    "tab_data = (TabularList.from_df(train_df, path=data_path, \n",
    "#                                 cat_names=cat_names, \n",
    "                                cont_names=cont_names, procs=procs)\n",
    "                           .split_by_idx(val_idx)\n",
    "                           .label_from_df(cols=dep_var))"
   ]
  },
  {
   "cell_type": "code",
   "execution_count": 18,
   "metadata": {},
   "outputs": [
    {
     "data": {
      "text/plain": [
       "LabelLists;\n",
       "\n",
       "Train: LabelList (80 items)\n",
       "x: TabularList\n",
       "in-class_submissions -0.5836; after-class_submisson -0.4067; sharing_outcomes 0.9726; student_discussions 1.3144; learning_groups 1.6325; wv_0 -0.7263; wv_1 0.7159; wv_2 -0.3787; wv_3 2.0108; wv_4 -0.6269; wv_5 0.2786; wv_6 -0.7447; wv_7 -0.7031; wv_8 -0.5473; wv_9 -0.0342; wv_10 1.1735; wv_11 -1.0205; wv_12 -0.0840; wv_13 -0.6097; wv_14 -0.2191; wv_15 -0.5560; wv_16 0.1862; wv_17 -0.2720; wv_18 0.1522; wv_19 -0.2519; wv_20 -0.4962; wv_21 -0.1917; wv_22 -1.0496; wv_23 -1.0261; wv_24 0.7936; wv_25 0.5795; wv_26 1.3470; wv_27 1.3797; wv_28 0.5696; wv_29 -0.4382; wv_30 -0.3392; wv_31 0.2124; wv_32 -0.1380; wv_33 0.2654; wv_34 0.1112; wv_35 -0.7252; wv_36 -1.2559; wv_37 -0.7986; wv_38 0.4583; wv_39 -0.6996; wv_40 -0.7374; wv_41 -1.2644; wv_42 -1.9532; wv_43 0.7670; wv_44 0.2775; wv_45 0.1254; wv_46 0.4275; wv_47 0.6720; wv_48 -1.3113; wv_49 -1.4316; wv_50 1.1535; wv_51 -0.8044; wv_52 0.0902; wv_53 -0.6439; wv_54 -0.5621; wv_55 -0.5866; wv_56 -0.6818; wv_57 -0.5162; wv_58 -1.5882; wv_59 -0.2904; wv_60 -0.9118; wv_61 -0.9129; wv_62 -0.2862; wv_63 -0.3156; wv_64 0.0317; wv_65 -0.6480; wv_66 -0.2167; wv_67 -0.5052; wv_68 0.7498; wv_69 0.3796; wv_70 -1.0250; wv_71 -0.2063; wv_72 -0.2154; wv_73 -0.3408; wv_74 0.0885; wv_75 0.7511; wv_76 0.0103; wv_77 0.5611; wv_78 -0.0001; wv_79 -0.2612; wv_80 -0.3433; wv_81 0.1922; wv_82 -0.6732; wv_83 0.1961; wv_84 1.1094; wv_85 0.2711; wv_86 -0.6569; wv_87 0.6254; wv_88 1.0950; wv_89 -0.4726; wv_90 -0.2160; wv_91 0.8930; wv_92 0.6467; wv_93 -0.0225; wv_94 1.1888; wv_95 0.0550; wv_96 0.7684; wv_97 0.5126; wv_98 -0.1591; wv_99 0.5989; wv_100 0.9243; wv_101 -0.4522; wv_102 -0.5760; wv_103 0.0948; wv_104 -0.9776; wv_105 1.9200; wv_106 -1.3936; wv_107 0.5051; wv_108 0.3989; wv_109 1.1127; wv_110 0.8623; wv_111 -0.8093; wv_112 -0.5376; wv_113 -0.0784; wv_114 -0.5778; wv_115 1.6776; wv_116 0.4290; wv_117 -0.4320; wv_118 -0.0156; wv_119 0.2359; wv_120 -0.7103; wv_121 0.8128; wv_122 -1.0186; wv_123 -1.7364; wv_124 -0.6528; wv_125 0.9742; wv_126 -0.8282; wv_127 0.1698; wv_128 1.1889; wv_129 -0.9315; wv_130 -0.8942; wv_131 0.3075; wv_132 0.7147; wv_133 0.8480; wv_134 -1.0613; wv_135 -0.0520; wv_136 0.7228; wv_137 -1.8647; wv_138 0.4576; wv_139 -0.4544; wv_140 -0.6987; wv_141 -0.5322; wv_142 -0.5381; wv_143 0.5244; wv_144 0.3814; wv_145 0.1184; wv_146 0.2798; wv_147 0.5932; wv_148 -0.0407; wv_149 0.7128; wv_150 0.2909; wv_151 1.1889; wv_152 -0.6017; wv_153 -1.5370; wv_154 -0.9183; wv_155 -0.8088; wv_156 -0.9649; wv_157 -0.1162; wv_158 0.3144; wv_159 -1.3318; wv_160 0.5625; wv_161 1.1048; wv_162 -0.8489; wv_163 2.0245; wv_164 0.9604; wv_165 -0.2150; wv_166 -0.5474; wv_167 0.9160; wv_168 1.0292; wv_169 -1.2033; wv_170 -0.5953; wv_171 1.1654; wv_172 -0.1045; wv_173 0.5843; wv_174 -0.7716; wv_175 0.9997; wv_176 0.9572; wv_177 -0.1537; wv_178 0.7308; wv_179 -1.3900; wv_180 -0.0800; wv_181 -0.5186; wv_182 0.0234; wv_183 0.2971; wv_184 -0.9983; wv_185 0.9204; wv_186 -0.9021; wv_187 0.1845; wv_188 0.7426; wv_189 0.0129; wv_190 0.4031; wv_191 0.2199; wv_192 0.3402; wv_193 1.0678; wv_194 -0.2493; wv_195 0.7700; wv_196 0.1771; wv_197 0.5576; wv_198 -0.1007; wv_199 -0.7767; wv_200 0.1080; wv_201 0.2403; wv_202 0.4802; wv_203 -0.6203; wv_204 -0.6396; wv_205 -0.8535; wv_206 -0.0481; wv_207 0.0573; wv_208 -0.0197; wv_209 0.3245; wv_210 -0.7029; wv_211 0.9299; wv_212 1.3587; wv_213 0.6179; wv_214 0.4620; wv_215 -0.9964; wv_216 -0.5006; wv_217 0.7922; wv_218 -0.3315; wv_219 -1.1575; wv_220 -0.4027; wv_221 -0.1679; wv_222 -1.1127; wv_223 -1.4935; wv_224 -0.1652; wv_225 0.2137; wv_226 0.6784; wv_227 0.2336; wv_228 0.9564; wv_229 -0.4491; wv_230 0.3901; wv_231 -0.6225; wv_232 -0.5552; wv_233 -0.3859; wv_234 0.4989; wv_235 -0.1802; wv_236 1.4613; wv_237 -0.9095; wv_238 0.5436; wv_239 -0.1998; wv_240 0.0507; wv_241 -0.6818; wv_242 -0.5773; wv_243 -0.0993; wv_244 -0.4347; wv_245 0.6798; wv_246 0.9319; wv_247 1.0238; wv_248 0.1404; wv_249 -0.5681; wv_250 0.3438; wv_251 0.9091; wv_252 0.5944; wv_253 0.5332; wv_254 0.9233; wv_255 -0.2678; wv_256 -1.5267; wv_257 0.5058; wv_258 1.1739; wv_259 -0.3509; wv_260 -0.5620; wv_261 1.2174; wv_262 -0.1111; wv_263 -1.0205; wv_264 -0.1736; wv_265 0.2564; wv_266 0.0475; wv_267 -0.1744; wv_268 -1.0787; wv_269 -0.9769; wv_270 -0.9783; wv_271 0.5457; wv_272 0.7074; wv_273 -0.4478; wv_274 0.6741; wv_275 -0.8968; wv_276 0.7783; wv_277 -0.2247; wv_278 0.8750; wv_279 1.0521; wv_280 -1.4345; wv_281 -0.1129; wv_282 0.0694; wv_283 0.3374; wv_284 1.6183; wv_285 0.4286; wv_286 -0.0665; wv_287 -0.0629; wv_288 0.5118; wv_289 0.6520; wv_290 0.8676; wv_291 0.4033; wv_292 0.1153; wv_293 0.3305; wv_294 0.2644; wv_295 0.0879; wv_296 0.1160; wv_297 -0.8256; wv_298 0.5760; wv_299 -0.1592; ,in-class_submissions 2.3091; after-class_submisson -0.4067; sharing_outcomes -0.6331; student_discussions -0.2550; learning_groups -0.2466; wv_0 0.5044; wv_1 -0.7319; wv_2 -0.2426; wv_3 -3.8219; wv_4 0.8579; wv_5 1.6756; wv_6 -0.4967; wv_7 2.6437; wv_8 1.6152; wv_9 -1.5065; wv_10 -1.8864; wv_11 1.4277; wv_12 -1.4631; wv_13 1.7269; wv_14 -3.1676; wv_15 2.1857; wv_16 4.3309; wv_17 3.9405; wv_18 0.5105; wv_19 1.1687; wv_20 -1.0429; wv_21 3.4491; wv_22 1.7851; wv_23 2.5749; wv_24 0.7576; wv_25 -1.4142; wv_26 -2.0719; wv_27 -1.3552; wv_28 -1.0534; wv_29 -1.5741; wv_30 -1.9664; wv_31 1.1609; wv_32 -0.9703; wv_33 1.5815; wv_34 -4.0893; wv_35 4.6773; wv_36 2.0485; wv_37 1.3069; wv_38 -3.2267; wv_39 -0.7472; wv_40 -2.8871; wv_41 -0.3868; wv_42 -0.5511; wv_43 -0.4990; wv_44 -2.4131; wv_45 -0.9930; wv_46 -1.8090; wv_47 -1.3334; wv_48 1.0908; wv_49 1.5466; wv_50 -1.4499; wv_51 -2.1863; wv_52 -1.6987; wv_53 2.8962; wv_54 0.3360; wv_55 -1.0670; wv_56 -4.6370; wv_57 -4.3678; wv_58 1.7030; wv_59 -0.5352; wv_60 1.1064; wv_61 3.7344; wv_62 0.9906; wv_63 2.9552; wv_64 1.7685; wv_65 4.1606; wv_66 -0.0591; wv_67 -3.2503; wv_68 -0.0917; wv_69 -1.5287; wv_70 -1.3482; wv_71 -2.2127; wv_72 -0.8423; wv_73 -2.9825; wv_74 -2.0054; wv_75 -0.9265; wv_76 0.9929; wv_77 -1.7862; wv_78 -0.6720; wv_79 1.9017; wv_80 1.1615; wv_81 2.2306; wv_82 -1.2952; wv_83 0.5084; wv_84 -1.1811; wv_85 -0.4379; wv_86 -4.0697; wv_87 -3.5925; wv_88 -0.8479; wv_89 0.0129; wv_90 0.4117; wv_91 0.0171; wv_92 0.0017; wv_93 -3.4359; wv_94 -0.0754; wv_95 -1.5817; wv_96 -1.7338; wv_97 -1.8035; wv_98 3.1359; wv_99 3.1636; wv_100 -2.1205; wv_101 1.2065; wv_102 -2.3605; wv_103 0.9534; wv_104 0.9287; wv_105 -0.0160; wv_106 -0.1638; wv_107 -3.1264; wv_108 2.0816; wv_109 -1.1914; wv_110 0.5413; wv_111 -0.6389; wv_112 -0.6089; wv_113 0.5673; wv_114 -1.0692; wv_115 1.9681; wv_116 2.1316; wv_117 1.2452; wv_118 -2.2959; wv_119 -2.9606; wv_120 1.4634; wv_121 -0.8775; wv_122 -1.1781; wv_123 1.2103; wv_124 -0.3168; wv_125 1.3229; wv_126 0.3880; wv_127 1.3141; wv_128 -3.4294; wv_129 3.9208; wv_130 -0.4945; wv_131 0.3485; wv_132 2.2526; wv_133 0.3490; wv_134 -0.6254; wv_135 0.1402; wv_136 0.2093; wv_137 -1.0740; wv_138 -0.0919; wv_139 -2.7067; wv_140 1.8326; wv_141 -1.3371; wv_142 -1.3330; wv_143 0.5648; wv_144 1.7406; wv_145 -0.8807; wv_146 1.4962; wv_147 -0.8102; wv_148 -1.5622; wv_149 -4.0924; wv_150 -0.4974; wv_151 3.1232; wv_152 0.5248; wv_153 0.0246; wv_154 1.3801; wv_155 -2.1512; wv_156 2.2852; wv_157 2.9479; wv_158 1.8209; wv_159 -0.1388; wv_160 1.1613; wv_161 -0.1330; wv_162 -0.4751; wv_163 1.9313; wv_164 0.2340; wv_165 1.4998; wv_166 1.2953; wv_167 -0.3102; wv_168 1.0960; wv_169 -2.6496; wv_170 0.3339; wv_171 -2.3223; wv_172 -3.0900; wv_173 -2.2862; wv_174 -0.2926; wv_175 0.4475; wv_176 -1.8514; wv_177 1.3868; wv_178 -0.5289; wv_179 0.1970; wv_180 0.0601; wv_181 0.0751; wv_182 -1.3000; wv_183 -0.1486; wv_184 3.5470; wv_185 0.1606; wv_186 2.1075; wv_187 -0.0918; wv_188 -0.9395; wv_189 1.8020; wv_190 -0.8745; wv_191 1.1889; wv_192 0.4503; wv_193 -0.9718; wv_194 0.1112; wv_195 -1.8187; wv_196 0.3014; wv_197 0.6807; wv_198 -0.8204; wv_199 -1.2255; wv_200 -1.9854; wv_201 1.1491; wv_202 0.0161; wv_203 1.7440; wv_204 0.4434; wv_205 0.8212; wv_206 1.1230; wv_207 0.5049; wv_208 -0.3855; wv_209 1.5221; wv_210 -2.2677; wv_211 1.1949; wv_212 0.9355; wv_213 -3.1686; wv_214 -1.3106; wv_215 -0.6984; wv_216 1.5914; wv_217 -2.3748; wv_218 -0.9872; wv_219 1.4485; wv_220 -0.8334; wv_221 0.4369; wv_222 -1.6416; wv_223 1.8241; wv_224 1.9542; wv_225 -2.1788; wv_226 -0.1507; wv_227 0.1859; wv_228 -1.5465; wv_229 -2.8858; wv_230 2.4134; wv_231 -0.4108; wv_232 -0.6499; wv_233 0.5289; wv_234 1.1277; wv_235 -2.2242; wv_236 0.5560; wv_237 1.6389; wv_238 4.1773; wv_239 1.6377; wv_240 -0.2776; wv_241 -1.3458; wv_242 2.7384; wv_243 -0.1541; wv_244 2.0807; wv_245 0.1796; wv_246 -2.6166; wv_247 -2.0004; wv_248 2.7736; wv_249 4.0149; wv_250 0.6504; wv_251 -0.1963; wv_252 0.7647; wv_253 -2.1852; wv_254 1.8697; wv_255 -0.3895; wv_256 -0.8071; wv_257 -0.3513; wv_258 1.8328; wv_259 1.9268; wv_260 0.6525; wv_261 2.9202; wv_262 0.0272; wv_263 2.1603; wv_264 1.9843; wv_265 3.3960; wv_266 -1.3532; wv_267 1.8831; wv_268 0.0673; wv_269 -1.8150; wv_270 0.3693; wv_271 0.3742; wv_272 1.4551; wv_273 3.1019; wv_274 -2.2915; wv_275 2.2505; wv_276 -2.2193; wv_277 -2.5028; wv_278 -2.2194; wv_279 1.6872; wv_280 2.1222; wv_281 0.2956; wv_282 0.7154; wv_283 0.6741; wv_284 -2.0686; wv_285 1.0168; wv_286 2.6700; wv_287 1.2941; wv_288 -1.6942; wv_289 -0.8220; wv_290 -2.0383; wv_291 -0.5692; wv_292 0.3209; wv_293 -0.1429; wv_294 3.1886; wv_295 0.4916; wv_296 0.9335; wv_297 0.6442; wv_298 0.1425; wv_299 -2.2603; ,in-class_submissions -0.5836; after-class_submisson 2.6818; sharing_outcomes -0.6331; student_discussions -0.2550; learning_groups -0.2466; wv_0 0.7076; wv_1 -1.2213; wv_2 0.4816; wv_3 -0.3208; wv_4 -0.9840; wv_5 -0.6646; wv_6 -0.3967; wv_7 -0.0964; wv_8 -0.0375; wv_9 0.4191; wv_10 -0.1712; wv_11 0.2318; wv_12 -0.2054; wv_13 1.0447; wv_14 -0.0200; wv_15 -0.8572; wv_16 0.3786; wv_17 -0.8850; wv_18 0.6899; wv_19 -0.6734; wv_20 -0.6416; wv_21 0.2891; wv_22 0.5920; wv_23 0.2265; wv_24 0.0563; wv_25 -1.0836; wv_26 -0.4517; wv_27 -0.7748; wv_28 0.9198; wv_29 -1.2034; wv_30 0.9601; wv_31 1.0981; wv_32 0.3847; wv_33 -0.1890; wv_34 0.1027; wv_35 0.6909; wv_36 1.0580; wv_37 0.0064; wv_38 1.1194; wv_39 -0.4552; wv_40 1.0817; wv_41 0.4066; wv_42 -0.8226; wv_43 -1.0505; wv_44 0.5803; wv_45 0.1242; wv_46 0.1064; wv_47 -0.7164; wv_48 0.2115; wv_49 0.2214; wv_50 -0.1222; wv_51 1.3150; wv_52 0.5706; wv_53 -1.0692; wv_54 -0.0607; wv_55 0.9224; wv_56 -1.0307; wv_57 -1.3022; wv_58 0.4668; wv_59 -0.4107; wv_60 -0.1035; wv_61 -0.9514; wv_62 0.7017; wv_63 -0.8642; wv_64 -0.5692; wv_65 -0.1529; wv_66 0.1101; wv_67 0.1114; wv_68 0.7559; wv_69 -0.4500; wv_70 -0.2139; wv_71 -0.3834; wv_72 0.1739; wv_73 -0.6865; wv_74 -1.0124; wv_75 0.1366; wv_76 0.7486; wv_77 -0.7461; wv_78 0.0279; wv_79 0.4141; wv_80 0.4977; wv_81 -0.5210; wv_82 -0.8259; wv_83 0.1691; wv_84 0.3164; wv_85 -0.3231; wv_86 -0.0011; wv_87 1.0733; wv_88 -0.5602; wv_89 1.4853; wv_90 -1.2008; wv_91 0.3216; wv_92 -0.6063; wv_93 1.0003; wv_94 0.7162; wv_95 0.5343; wv_96 0.9767; wv_97 0.5398; wv_98 0.7224; wv_99 -0.3668; wv_100 -0.2202; wv_101 1.2820; wv_102 1.5430; wv_103 0.7898; wv_104 1.2851; wv_105 -0.9624; wv_106 -0.1793; wv_107 0.1937; wv_108 -1.2015; wv_109 0.1889; wv_110 -0.6407; wv_111 0.6634; wv_112 1.3621; wv_113 -0.7654; wv_114 0.8849; wv_115 -0.1902; wv_116 -0.4751; wv_117 -0.6437; wv_118 0.1219; wv_119 -0.6675; wv_120 0.1918; wv_121 -1.3013; wv_122 -0.2906; wv_123 -0.7870; wv_124 -0.4480; wv_125 -1.0313; wv_126 -1.0327; wv_127 -0.6650; wv_128 -0.8403; wv_129 -0.7434; wv_130 -0.3049; wv_131 0.6238; wv_132 -0.8014; wv_133 -1.3477; wv_134 1.5257; wv_135 0.2470; wv_136 -0.2729; wv_137 -0.0800; wv_138 -0.6860; wv_139 -0.5222; wv_140 0.5119; wv_141 0.6128; wv_142 0.8671; wv_143 0.2769; wv_144 0.8827; wv_145 0.0354; wv_146 0.8568; wv_147 -0.2380; wv_148 0.2964; wv_149 0.2288; wv_150 -0.6690; wv_151 0.2108; wv_152 0.7816; wv_153 0.9289; wv_154 1.0882; wv_155 1.7543; wv_156 1.2509; wv_157 0.0137; wv_158 -0.1061; wv_159 0.2887; wv_160 -0.2770; wv_161 -0.1662; wv_162 1.7039; wv_163 0.3607; wv_164 -0.2216; wv_165 -0.9463; wv_166 0.0071; wv_167 1.0254; wv_168 0.3734; wv_169 0.4001; wv_170 0.2243; wv_171 -0.5620; wv_172 -0.0059; wv_173 0.0161; wv_174 -0.2627; wv_175 -0.4290; wv_176 0.4626; wv_177 0.2032; wv_178 -1.1929; wv_179 -0.5938; wv_180 -0.4718; wv_181 0.6327; wv_182 0.8686; wv_183 -0.1282; wv_184 0.3249; wv_185 0.8391; wv_186 -0.6794; wv_187 -0.5011; wv_188 -0.4486; wv_189 0.8806; wv_190 -0.6979; wv_191 0.1722; wv_192 -0.5071; wv_193 -0.1756; wv_194 -0.0417; wv_195 -0.9871; wv_196 -1.4379; wv_197 -1.2589; wv_198 1.1973; wv_199 -0.5590; wv_200 1.0917; wv_201 0.8349; wv_202 -1.3635; wv_203 0.5380; wv_204 0.6392; wv_205 0.1229; wv_206 -0.5709; wv_207 1.5403; wv_208 0.7920; wv_209 -0.5536; wv_210 0.0332; wv_211 0.6867; wv_212 -0.9035; wv_213 -1.0106; wv_214 -0.2666; wv_215 1.0708; wv_216 -0.7344; wv_217 1.5617; wv_218 -0.2099; wv_219 -0.7905; wv_220 1.3124; wv_221 -0.3392; wv_222 0.8428; wv_223 0.1152; wv_224 -0.5823; wv_225 0.4758; wv_226 -0.6456; wv_227 -0.4699; wv_228 0.4124; wv_229 -0.8145; wv_230 0.1245; wv_231 0.2168; wv_232 0.9220; wv_233 -0.1139; wv_234 0.3628; wv_235 -0.5411; wv_236 -0.1206; wv_237 -0.1765; wv_238 -0.8685; wv_239 -0.0302; wv_240 -0.3904; wv_241 0.5949; wv_242 -0.5449; wv_243 0.1082; wv_244 -0.9596; wv_245 -1.0203; wv_246 -0.9513; wv_247 -0.6043; wv_248 -1.0289; wv_249 -0.4378; wv_250 -1.0691; wv_251 -0.5487; wv_252 -0.4877; wv_253 0.8580; wv_254 -1.2515; wv_255 0.6690; wv_256 -0.2883; wv_257 -0.0506; wv_258 -0.5589; wv_259 0.2814; wv_260 -1.0703; wv_261 -0.9664; wv_262 -0.2565; wv_263 0.4449; wv_264 0.6302; wv_265 -0.9441; wv_266 0.3116; wv_267 -0.7496; wv_268 -0.4536; wv_269 -0.9601; wv_270 0.0729; wv_271 -0.2078; wv_272 -0.4490; wv_273 -0.2241; wv_274 -0.9212; wv_275 -0.5973; wv_276 -0.5844; wv_277 0.7429; wv_278 0.4584; wv_279 -0.2895; wv_280 -1.2675; wv_281 -0.2535; wv_282 -0.6999; wv_283 -1.0252; wv_284 0.8576; wv_285 0.5366; wv_286 -0.8098; wv_287 0.6134; wv_288 0.4052; wv_289 -0.3703; wv_290 -0.7411; wv_291 -0.4423; wv_292 0.4636; wv_293 -0.6336; wv_294 -0.4074; wv_295 0.4229; wv_296 -1.2718; wv_297 0.8274; wv_298 -0.6532; wv_299 0.0219; ,in-class_submissions -0.5836; after-class_submisson -0.4067; sharing_outcomes -0.6331; student_discussions -0.2550; learning_groups -0.2466; wv_0 1.5427; wv_1 1.7141; wv_2 0.9256; wv_3 -0.0625; wv_4 -2.1232; wv_5 -0.2508; wv_6 1.5516; wv_7 -0.2086; wv_8 -0.9945; wv_9 -0.2678; wv_10 1.3094; wv_11 -1.3575; wv_12 -0.7932; wv_13 -0.7414; wv_14 -2.1742; wv_15 -0.4874; wv_16 0.3959; wv_17 0.4052; wv_18 -1.1895; wv_19 -0.7351; wv_20 -0.6214; wv_21 -1.0004; wv_22 -1.0089; wv_23 0.7732; wv_24 -0.0074; wv_25 2.2732; wv_26 -0.3657; wv_27 1.1954; wv_28 -1.0380; wv_29 -0.7926; wv_30 -0.5664; wv_31 0.5793; wv_32 1.0069; wv_33 2.2418; wv_34 0.8666; wv_35 -0.1569; wv_36 0.2767; wv_37 0.8065; wv_38 0.8161; wv_39 0.7787; wv_40 -0.0509; wv_41 -0.8249; wv_42 1.0772; wv_43 -0.3157; wv_44 0.0586; wv_45 -0.8051; wv_46 0.6834; wv_47 0.0239; wv_48 0.7874; wv_49 -0.1427; wv_50 -0.1200; wv_51 -0.6647; wv_52 -1.1409; wv_53 0.5946; wv_54 1.3061; wv_55 0.0512; wv_56 -0.2131; wv_57 1.0076; wv_58 1.3051; wv_59 -1.2552; wv_60 0.9750; wv_61 -0.1161; wv_62 0.3214; wv_63 0.6809; wv_64 1.0625; wv_65 1.5121; wv_66 0.4634; wv_67 0.5569; wv_68 0.3668; wv_69 0.8898; wv_70 0.8749; wv_71 0.4807; wv_72 -1.3882; wv_73 -0.0305; wv_74 1.3452; wv_75 -0.3930; wv_76 -0.5567; wv_77 2.4295; wv_78 -1.5528; wv_79 -1.3781; wv_80 0.6531; wv_81 0.9581; wv_82 0.0480; wv_83 0.4992; wv_84 -2.1394; wv_85 0.7533; wv_86 -0.1661; wv_87 -1.1841; wv_88 -0.2289; wv_89 -0.3794; wv_90 -0.5341; wv_91 -2.0517; wv_92 -0.1057; wv_93 -1.0014; wv_94 0.0543; wv_95 -0.0135; wv_96 -0.5032; wv_97 -0.3983; wv_98 -0.3177; wv_99 0.4120; wv_100 -0.1037; wv_101 -2.1968; wv_102 -1.1091; wv_103 0.0943; wv_104 1.1215; wv_105 0.8103; wv_106 1.0595; wv_107 -2.8362; wv_108 0.6438; wv_109 0.4288; wv_110 0.1775; wv_111 1.3194; wv_112 -0.6404; wv_113 -0.8188; wv_114 0.0433; wv_115 -1.3038; wv_116 0.5916; wv_117 -0.1281; wv_118 -1.2053; wv_119 -0.5909; wv_120 -2.1526; wv_121 0.4018; wv_122 1.0649; wv_123 -0.6729; wv_124 0.0010; wv_125 0.7579; wv_126 1.7722; wv_127 1.0221; wv_128 -0.1766; wv_129 1.1809; wv_130 2.0183; wv_131 -1.1695; wv_132 1.5413; wv_133 0.6513; wv_134 -1.1001; wv_135 -1.0216; wv_136 0.5742; wv_137 0.7995; wv_138 -0.4320; wv_139 0.4753; wv_140 -1.5567; wv_141 2.1069; wv_142 -0.7660; wv_143 -0.9139; wv_144 -0.9426; wv_145 0.0691; wv_146 -0.7511; wv_147 0.5172; wv_148 -1.3942; wv_149 -1.5147; wv_150 0.3965; wv_151 -0.2282; wv_152 -1.3201; wv_153 -0.1455; wv_154 1.4493; wv_155 -0.6472; wv_156 -0.2336; wv_157 1.0447; wv_158 -0.7187; wv_159 -0.4485; wv_160 -0.7143; wv_161 -0.6778; wv_162 -0.7444; wv_163 -0.8697; wv_164 0.2077; wv_165 1.1579; wv_166 0.8579; wv_167 -2.0485; wv_168 -1.7700; wv_169 0.5124; wv_170 -0.7236; wv_171 -1.2778; wv_172 0.6602; wv_173 -0.5020; wv_174 0.1450; wv_175 1.4854; wv_176 -0.5230; wv_177 1.7602; wv_178 -0.1508; wv_179 0.3138; wv_180 -0.6056; wv_181 0.2687; wv_182 -0.6022; wv_183 1.6447; wv_184 0.7921; wv_185 -2.3060; wv_186 0.1579; wv_187 0.5454; wv_188 1.8798; wv_189 0.6564; wv_190 0.0182; wv_191 0.3194; wv_192 -0.2749; wv_193 1.4694; wv_194 0.5858; wv_195 1.1414; wv_196 0.6734; wv_197 1.2134; wv_198 -1.3874; wv_199 -0.4428; wv_200 -1.1801; wv_201 -1.1433; wv_202 -0.0086; wv_203 -0.3468; wv_204 0.4242; wv_205 -0.8789; wv_206 1.3810; wv_207 -1.6419; wv_208 0.0955; wv_209 0.0840; wv_210 -0.5889; wv_211 0.5423; wv_212 0.7428; wv_213 -2.2332; wv_214 0.2706; wv_215 -2.1359; wv_216 0.6866; wv_217 0.5549; wv_218 0.0441; wv_219 -0.2505; wv_220 -0.7030; wv_221 0.9682; wv_222 -1.7787; wv_223 0.3086; wv_224 -0.2303; wv_225 0.9835; wv_226 0.5921; wv_227 1.4867; wv_228 0.8131; wv_229 -0.0405; wv_230 -2.3309; wv_231 -1.7445; wv_232 1.2515; wv_233 0.2542; wv_234 -1.0040; wv_235 -1.6617; wv_236 -0.7019; wv_237 -0.4086; wv_238 -0.7182; wv_239 -0.8016; wv_240 -1.0449; wv_241 -1.2951; wv_242 -0.1692; wv_243 0.9294; wv_244 0.3557; wv_245 0.1809; wv_246 0.6818; wv_247 -1.1786; wv_248 1.0070; wv_249 1.7033; wv_250 -0.0171; wv_251 0.7329; wv_252 -1.3609; wv_253 -0.8348; wv_254 1.5269; wv_255 -0.0943; wv_256 -0.7559; wv_257 0.1195; wv_258 -0.8639; wv_259 -0.4571; wv_260 -0.1972; wv_261 -0.0864; wv_262 0.4735; wv_263 -0.3256; wv_264 -0.2239; wv_265 2.0698; wv_266 -1.2834; wv_267 1.0435; wv_268 -0.4031; wv_269 1.1464; wv_270 -1.6956; wv_271 0.9036; wv_272 0.1689; wv_273 -0.3206; wv_274 1.0098; wv_275 0.4677; wv_276 0.7250; wv_277 0.7935; wv_278 -0.0262; wv_279 0.1503; wv_280 0.4029; wv_281 1.5571; wv_282 0.5501; wv_283 0.8228; wv_284 0.2883; wv_285 -0.0715; wv_286 -0.4307; wv_287 0.2915; wv_288 0.3591; wv_289 -0.4693; wv_290 -1.4205; wv_291 0.2442; wv_292 -3.1009; wv_293 -0.3141; wv_294 -0.3669; wv_295 1.1491; wv_296 0.7353; wv_297 0.6131; wv_298 -0.3279; wv_299 1.0380; ,in-class_submissions -0.5836; after-class_submisson -0.4067; sharing_outcomes 1.4409; student_discussions -0.2550; learning_groups -0.2466; wv_0 0.0283; wv_1 0.6272; wv_2 0.3719; wv_3 0.7407; wv_4 1.9549; wv_5 0.0443; wv_6 -0.2870; wv_7 0.8251; wv_8 0.0125; wv_9 1.0134; wv_10 -0.5525; wv_11 0.3237; wv_12 1.2296; wv_13 0.3014; wv_14 -0.7546; wv_15 0.1696; wv_16 0.5806; wv_17 2.0449; wv_18 -0.2292; wv_19 -0.0480; wv_20 -0.9942; wv_21 -0.5226; wv_22 -0.6430; wv_23 -0.3256; wv_24 0.0441; wv_25 0.9299; wv_26 0.5089; wv_27 0.5944; wv_28 0.0690; wv_29 1.6237; wv_30 -0.6357; wv_31 0.1335; wv_32 0.6762; wv_33 0.4810; wv_34 -0.1087; wv_35 0.1588; wv_36 -0.1920; wv_37 -0.6336; wv_38 -1.1167; wv_39 1.0321; wv_40 -0.7900; wv_41 0.7246; wv_42 0.4615; wv_43 0.6253; wv_44 0.3434; wv_45 0.4689; wv_46 -0.1263; wv_47 -0.1511; wv_48 0.1279; wv_49 -1.2188; wv_50 0.3033; wv_51 1.1362; wv_52 0.4550; wv_53 1.0397; wv_54 -1.1572; wv_55 0.0902; wv_56 0.7513; wv_57 0.3866; wv_58 -1.3447; wv_59 0.4568; wv_60 0.1026; wv_61 0.0704; wv_62 0.1882; wv_63 -0.4215; wv_64 0.1278; wv_65 -1.6233; wv_66 1.0778; wv_67 -1.1281; wv_68 0.3206; wv_69 0.8607; wv_70 0.2687; wv_71 -0.5192; wv_72 1.3844; wv_73 0.6566; wv_74 -0.3462; wv_75 -0.3071; wv_76 -0.5200; wv_77 0.0961; wv_78 0.0502; wv_79 -0.6237; wv_80 -0.7522; wv_81 -0.9051; wv_82 -1.7272; wv_83 -0.4659; wv_84 -1.1909; wv_85 -1.0828; wv_86 0.8491; wv_87 0.3750; wv_88 0.6432; wv_89 -0.8183; wv_90 0.4712; wv_91 -1.5514; wv_92 -0.2884; wv_93 0.8934; wv_94 -0.1553; wv_95 -0.5488; wv_96 -0.2461; wv_97 -1.6293; wv_98 -1.0215; wv_99 -0.3423; wv_100 -1.6972; wv_101 -1.1667; wv_102 -0.7816; wv_103 -0.5490; wv_104 -0.8185; wv_105 0.8270; wv_106 0.8730; wv_107 -0.1180; wv_108 0.6234; wv_109 1.1141; wv_110 -0.1070; wv_111 -0.8756; wv_112 0.4724; wv_113 0.8729; wv_114 -1.1876; wv_115 -0.4134; wv_116 -0.8784; wv_117 0.5305; wv_118 -0.3319; wv_119 0.5178; wv_120 0.3172; wv_121 0.6491; wv_122 0.2200; wv_123 0.3671; wv_124 -0.5144; wv_125 0.1883; wv_126 0.0859; wv_127 -1.9956; wv_128 0.2877; wv_129 -0.4627; wv_130 -0.1461; wv_131 0.5629; wv_132 1.4474; wv_133 0.0651; wv_134 0.3896; wv_135 -0.7389; wv_136 -0.0011; wv_137 1.0926; wv_138 0.1613; wv_139 0.3931; wv_140 -0.0547; wv_141 0.1242; wv_142 1.1423; wv_143 1.6256; wv_144 -0.7825; wv_145 -0.4218; wv_146 0.5478; wv_147 0.2141; wv_148 0.6087; wv_149 -0.3306; wv_150 -0.3812; wv_151 0.4283; wv_152 -0.5485; wv_153 0.3323; wv_154 0.2466; wv_155 0.5065; wv_156 -0.3977; wv_157 0.3406; wv_158 0.0547; wv_159 -0.3837; wv_160 -0.0133; wv_161 -0.3673; wv_162 -0.5439; wv_163 0.7369; wv_164 -0.2983; wv_165 -0.1639; wv_166 0.3946; wv_167 0.1944; wv_168 0.2413; wv_169 0.8122; wv_170 -0.9228; wv_171 -0.6766; wv_172 0.3983; wv_173 -0.2024; wv_174 0.2384; wv_175 1.8108; wv_176 1.0585; wv_177 -1.2063; wv_178 -0.0305; wv_179 0.3617; wv_180 -0.9752; wv_181 -1.2138; wv_182 -0.8196; wv_183 0.1078; wv_184 0.7568; wv_185 -0.3740; wv_186 -0.6421; wv_187 -1.0049; wv_188 0.8329; wv_189 0.3644; wv_190 -0.1864; wv_191 -1.4782; wv_192 0.3802; wv_193 2.6368; wv_194 -0.4848; wv_195 0.5047; wv_196 0.6187; wv_197 -1.1405; wv_198 -1.1831; wv_199 1.3429; wv_200 0.3045; wv_201 1.0283; wv_202 0.1045; wv_203 -0.4169; wv_204 -0.1073; wv_205 -0.4299; wv_206 1.0520; wv_207 -1.4676; wv_208 0.3946; wv_209 -1.8714; wv_210 -1.0970; wv_211 0.3588; wv_212 -0.6124; wv_213 0.0652; wv_214 -0.1950; wv_215 -0.4924; wv_216 -1.1164; wv_217 -0.3160; wv_218 0.3352; wv_219 0.6962; wv_220 -1.1197; wv_221 -0.0994; wv_222 0.2146; wv_223 -0.3865; wv_224 0.2907; wv_225 0.2482; wv_226 0.3335; wv_227 1.1507; wv_228 0.4682; wv_229 0.5977; wv_230 0.4334; wv_231 -0.6475; wv_232 -0.0081; wv_233 1.1485; wv_234 0.0067; wv_235 0.6896; wv_236 1.6778; wv_237 -0.1709; wv_238 0.7253; wv_239 -0.7570; wv_240 -2.1837; wv_241 1.3322; wv_242 -1.1678; wv_243 0.1891; wv_244 -0.6411; wv_245 1.0986; wv_246 0.3033; wv_247 -0.9189; wv_248 0.5891; wv_249 -0.7920; wv_250 -0.2005; wv_251 0.4410; wv_252 -0.5844; wv_253 0.7743; wv_254 -0.6758; wv_255 -0.3153; wv_256 1.5542; wv_257 1.2281; wv_258 -1.0088; wv_259 -0.0474; wv_260 -0.5261; wv_261 -0.1150; wv_262 0.6800; wv_263 0.7692; wv_264 -1.6257; wv_265 -0.4135; wv_266 0.4987; wv_267 -0.0978; wv_268 -0.3938; wv_269 0.6039; wv_270 0.0108; wv_271 0.3803; wv_272 -0.8428; wv_273 -1.1285; wv_274 0.3740; wv_275 0.1378; wv_276 0.0609; wv_277 -0.0625; wv_278 0.5683; wv_279 -0.6803; wv_280 -0.1489; wv_281 1.3189; wv_282 -1.1341; wv_283 -0.0752; wv_284 0.6586; wv_285 1.2238; wv_286 -0.2931; wv_287 0.5350; wv_288 1.4425; wv_289 0.1533; wv_290 -0.1894; wv_291 1.7085; wv_292 1.8789; wv_293 0.8039; wv_294 -0.4186; wv_295 -0.3493; wv_296 0.4151; wv_297 -0.3226; wv_298 0.1007; wv_299 0.7782; \n",
       "y: CategoryList\n",
       "1,1,0,0,1\n",
       "Path: data/artifact-technology-classification;\n",
       "\n",
       "Valid: LabelList (20 items)\n",
       "x: TabularList\n",
       "in-class_submissions -0.5836; after-class_submisson 2.5789; sharing_outcomes -0.6331; student_discussions -0.2550; learning_groups -0.2466; wv_0 -0.5757; wv_1 -1.9695; wv_2 -1.3488; wv_3 -1.0007; wv_4 0.5704; wv_5 5.0536; wv_6 1.4101; wv_7 -3.3271; wv_8 0.1227; wv_9 0.4676; wv_10 -0.7039; wv_11 -2.3845; wv_12 1.5314; wv_13 -0.4953; wv_14 0.0102; wv_15 -3.3278; wv_16 -1.1735; wv_17 0.6660; wv_18 0.9352; wv_19 -0.9353; wv_20 -1.4840; wv_21 -5.3338; wv_22 2.5413; wv_23 2.8012; wv_24 -3.3508; wv_25 0.9483; wv_26 1.3582; wv_27 1.8241; wv_28 -1.9907; wv_29 -1.8474; wv_30 -1.9083; wv_31 -1.4276; wv_32 -0.2877; wv_33 1.1786; wv_34 -2.7541; wv_35 1.5648; wv_36 0.2971; wv_37 2.0329; wv_38 1.2708; wv_39 2.7640; wv_40 1.9810; wv_41 1.1962; wv_42 2.4338; wv_43 2.1759; wv_44 4.4686; wv_45 -3.9961; wv_46 -1.3908; wv_47 -1.5302; wv_48 -2.2986; wv_49 0.0902; wv_50 -0.1310; wv_51 -2.1228; wv_52 1.1951; wv_53 0.4978; wv_54 0.5625; wv_55 2.4205; wv_56 -1.2483; wv_57 -0.1735; wv_58 -0.2230; wv_59 2.3005; wv_60 1.9058; wv_61 1.4216; wv_62 -1.2942; wv_63 -1.3483; wv_64 -4.4060; wv_65 -3.3715; wv_66 2.0416; wv_67 2.8712; wv_68 2.7833; wv_69 -0.3889; wv_70 1.1032; wv_71 -1.9389; wv_72 2.3155; wv_73 2.1673; wv_74 2.0457; wv_75 0.3594; wv_76 1.1009; wv_77 -0.7874; wv_78 2.3028; wv_79 -2.4975; wv_80 -0.1574; wv_81 2.8480; wv_82 2.1000; wv_83 -4.4086; wv_84 1.7734; wv_85 0.9712; wv_86 -2.3222; wv_87 1.6756; wv_88 0.6514; wv_89 -2.4293; wv_90 2.2154; wv_91 0.5105; wv_92 -0.6232; wv_93 -0.1959; wv_94 -1.9874; wv_95 2.0275; wv_96 1.0476; wv_97 1.6448; wv_98 2.3243; wv_99 -3.2359; wv_100 0.2583; wv_101 0.7375; wv_102 1.0872; wv_103 -1.3351; wv_104 2.5092; wv_105 -3.0191; wv_106 0.4492; wv_107 -0.7086; wv_108 0.5060; wv_109 0.5057; wv_110 1.6311; wv_111 -3.0337; wv_112 2.5683; wv_113 1.8434; wv_114 -1.6690; wv_115 2.6683; wv_116 0.7550; wv_117 1.0443; wv_118 -4.9164; wv_119 -0.1154; wv_120 3.4987; wv_121 0.1510; wv_122 -1.2790; wv_123 -4.4490; wv_124 4.3139; wv_125 -0.9057; wv_126 -1.4239; wv_127 -3.0663; wv_128 0.5326; wv_129 -1.2196; wv_130 2.2854; wv_131 -0.1896; wv_132 -0.7849; wv_133 -3.2092; wv_134 1.5718; wv_135 -2.5718; wv_136 -1.3467; wv_137 0.9776; wv_138 -2.0129; wv_139 3.9303; wv_140 2.5746; wv_141 0.7392; wv_142 2.2089; wv_143 -0.3009; wv_144 1.0628; wv_145 0.5012; wv_146 -3.9459; wv_147 5.4588; wv_148 -2.2528; wv_149 -1.6025; wv_150 -1.9290; wv_151 -1.0741; wv_152 -3.7045; wv_153 1.2461; wv_154 1.7914; wv_155 1.5027; wv_156 0.6376; wv_157 -1.0018; wv_158 5.4081; wv_159 -2.0409; wv_160 -1.7876; wv_161 2.8435; wv_162 -0.2081; wv_163 -1.8563; wv_164 1.0470; wv_165 -3.0798; wv_166 -0.5602; wv_167 2.2219; wv_168 -2.9957; wv_169 -4.4077; wv_170 -1.3306; wv_171 -2.7572; wv_172 4.0720; wv_173 -0.5544; wv_174 0.3106; wv_175 -1.4790; wv_176 2.5574; wv_177 -0.2259; wv_178 0.0441; wv_179 0.1972; wv_180 2.0395; wv_181 3.8456; wv_182 2.8227; wv_183 -2.8207; wv_184 -1.9286; wv_185 -0.1260; wv_186 -2.4892; wv_187 1.9537; wv_188 -0.8470; wv_189 2.8115; wv_190 1.3269; wv_191 -1.9076; wv_192 1.9849; wv_193 0.2747; wv_194 3.2410; wv_195 2.5525; wv_196 -1.1941; wv_197 0.5985; wv_198 -0.6802; wv_199 -0.4878; wv_200 1.6815; wv_201 -1.9330; wv_202 0.7266; wv_203 0.5456; wv_204 3.8329; wv_205 -2.2667; wv_206 -2.9928; wv_207 1.2789; wv_208 0.8423; wv_209 -0.4509; wv_210 2.4153; wv_211 1.5551; wv_212 -1.8694; wv_213 -2.2708; wv_214 3.4652; wv_215 -3.4184; wv_216 -1.1762; wv_217 0.2292; wv_218 3.0248; wv_219 -2.8111; wv_220 2.6002; wv_221 -0.9301; wv_222 -2.5026; wv_223 -0.0067; wv_224 2.4892; wv_225 -1.1944; wv_226 -3.0713; wv_227 2.9280; wv_228 -3.3443; wv_229 -0.2161; wv_230 1.0040; wv_231 0.3733; wv_232 4.6670; wv_233 -1.5031; wv_234 -3.4348; wv_235 -0.3959; wv_236 -2.1464; wv_237 -0.8510; wv_238 -1.5420; wv_239 -2.1770; wv_240 -0.4340; wv_241 0.2864; wv_242 0.2260; wv_243 -0.6572; wv_244 2.3996; wv_245 0.7229; wv_246 -0.0877; wv_247 -0.7497; wv_248 -1.4225; wv_249 1.1009; wv_250 3.1964; wv_251 0.8466; wv_252 -0.1552; wv_253 -1.7935; wv_254 -0.0620; wv_255 0.4090; wv_256 -1.8305; wv_257 1.1582; wv_258 -0.3903; wv_259 -1.1918; wv_260 -2.0496; wv_261 0.1009; wv_262 -0.9824; wv_263 -1.8528; wv_264 0.4777; wv_265 0.1007; wv_266 1.2746; wv_267 0.2674; wv_268 -0.5105; wv_269 2.0702; wv_270 -1.0013; wv_271 -1.6046; wv_272 -2.1735; wv_273 2.5249; wv_274 -4.5263; wv_275 -3.1472; wv_276 -2.2875; wv_277 1.5343; wv_278 0.5913; wv_279 1.6660; wv_280 1.4016; wv_281 3.4831; wv_282 -3.1388; wv_283 3.2522; wv_284 0.2420; wv_285 -0.8107; wv_286 1.8234; wv_287 -0.4542; wv_288 0.4055; wv_289 -2.4673; wv_290 -1.6368; wv_291 1.3002; wv_292 -0.4092; wv_293 -0.0225; wv_294 1.9594; wv_295 -0.0845; wv_296 0.9264; wv_297 1.5802; wv_298 -4.2219; wv_299 2.4729; ,in-class_submissions -0.5836; after-class_submisson -0.4067; sharing_outcomes -0.3655; student_discussions -0.2550; learning_groups -0.2466; wv_0 -0.1820; wv_1 1.3093; wv_2 -1.0189; wv_3 0.9340; wv_4 1.1209; wv_5 -0.2872; wv_6 0.8579; wv_7 -0.6184; wv_8 0.8559; wv_9 0.5933; wv_10 0.9641; wv_11 -0.2511; wv_12 0.9039; wv_13 0.0226; wv_14 0.0046; wv_15 0.3445; wv_16 -0.3620; wv_17 0.4101; wv_18 -0.0344; wv_19 1.2442; wv_20 -0.2760; wv_21 -0.2563; wv_22 -0.5659; wv_23 -0.4243; wv_24 0.0766; wv_25 0.0509; wv_26 0.0852; wv_27 -0.0504; wv_28 -0.7695; wv_29 -0.0429; wv_30 0.4565; wv_31 -0.4141; wv_32 0.3746; wv_33 -0.5937; wv_34 -0.1585; wv_35 1.0818; wv_36 -0.1972; wv_37 -0.0525; wv_38 -0.2433; wv_39 0.6696; wv_40 0.0784; wv_41 0.2363; wv_42 0.5612; wv_43 -0.3651; wv_44 -0.2109; wv_45 0.3046; wv_46 0.2821; wv_47 1.0021; wv_48 0.3304; wv_49 -0.3586; wv_50 0.0088; wv_51 -0.5778; wv_52 -1.2554; wv_53 0.0610; wv_54 0.3085; wv_55 -0.7465; wv_56 0.5837; wv_57 0.3271; wv_58 -0.6763; wv_59 -0.2089; wv_60 0.3280; wv_61 -0.7412; wv_62 -1.8936; wv_63 0.4734; wv_64 -0.2819; wv_65 0.3791; wv_66 -0.5362; wv_67 -1.5013; wv_68 1.2690; wv_69 1.2519; wv_70 -0.4677; wv_71 -0.3800; wv_72 0.0901; wv_73 0.5852; wv_74 0.2295; wv_75 1.4158; wv_76 0.3407; wv_77 0.7803; wv_78 0.1769; wv_79 0.5831; wv_80 -1.1342; wv_81 0.3001; wv_82 0.2678; wv_83 -0.1982; wv_84 0.8331; wv_85 -0.8677; wv_86 -0.7644; wv_87 -0.2408; wv_88 -1.0954; wv_89 -0.2920; wv_90 1.1792; wv_91 0.1919; wv_92 0.0443; wv_93 0.4137; wv_94 -0.7375; wv_95 -0.4973; wv_96 0.7736; wv_97 0.5674; wv_98 -1.4454; wv_99 1.0364; wv_100 0.8080; wv_101 0.0820; wv_102 1.2145; wv_103 -0.8727; wv_104 -0.7082; wv_105 -0.1212; wv_106 1.5068; wv_107 0.5044; wv_108 -0.0843; wv_109 0.0638; wv_110 -0.0959; wv_111 0.6185; wv_112 -0.2436; wv_113 0.1713; wv_114 -0.2306; wv_115 0.7765; wv_116 0.0071; wv_117 0.0347; wv_118 0.2037; wv_119 0.5581; wv_120 -0.3852; wv_121 -0.1048; wv_122 -0.7722; wv_123 0.5087; wv_124 -0.1310; wv_125 0.3011; wv_126 0.8698; wv_127 0.2800; wv_128 0.3322; wv_129 -0.6801; wv_130 -0.1935; wv_131 0.4974; wv_132 -0.8990; wv_133 0.6309; wv_134 -0.2266; wv_135 0.0669; wv_136 0.0120; wv_137 -1.4439; wv_138 0.3700; wv_139 0.0213; wv_140 -1.0635; wv_141 0.2026; wv_142 0.2856; wv_143 0.4101; wv_144 -0.9309; wv_145 -0.0523; wv_146 -1.1187; wv_147 0.7437; wv_148 0.7332; wv_149 0.9174; wv_150 0.5754; wv_151 -0.1499; wv_152 -0.3498; wv_153 0.1202; wv_154 -0.8031; wv_155 0.5887; wv_156 -0.9079; wv_157 0.4404; wv_158 -0.6991; wv_159 -0.6939; wv_160 0.3006; wv_161 0.9931; wv_162 -0.7704; wv_163 0.2959; wv_164 0.2565; wv_165 -0.3101; wv_166 1.8349; wv_167 -0.6985; wv_168 0.6278; wv_169 0.7411; wv_170 -2.3530; wv_171 0.5208; wv_172 0.6799; wv_173 0.4182; wv_174 0.2353; wv_175 -0.2306; wv_176 -1.8880; wv_177 -1.4407; wv_178 0.5191; wv_179 0.5836; wv_180 0.3284; wv_181 0.1207; wv_182 -0.1959; wv_183 -0.7360; wv_184 -0.5169; wv_185 0.4528; wv_186 0.4543; wv_187 0.7422; wv_188 1.8217; wv_189 -1.2352; wv_190 0.1137; wv_191 0.1640; wv_192 0.1722; wv_193 0.8020; wv_194 -1.7481; wv_195 0.7034; wv_196 1.3529; wv_197 1.2284; wv_198 -0.2022; wv_199 1.2448; wv_200 0.1084; wv_201 0.3354; wv_202 -0.8070; wv_203 -0.4400; wv_204 0.4764; wv_205 -0.7923; wv_206 -0.1299; wv_207 0.3188; wv_208 0.0623; wv_209 -0.0307; wv_210 -1.1030; wv_211 1.7660; wv_212 0.0794; wv_213 0.1554; wv_214 -0.2409; wv_215 1.4181; wv_216 0.1646; wv_217 0.4600; wv_218 0.6653; wv_219 -0.7653; wv_220 0.0033; wv_221 -0.5210; wv_222 -0.5560; wv_223 0.1351; wv_224 -0.3109; wv_225 -0.3358; wv_226 0.5531; wv_227 -0.7501; wv_228 0.3381; wv_229 -0.0431; wv_230 -0.1538; wv_231 -1.9992; wv_232 -1.4864; wv_233 0.2864; wv_234 -0.5813; wv_235 -0.4269; wv_236 0.0347; wv_237 -0.4267; wv_238 -1.0240; wv_239 1.0935; wv_240 0.3171; wv_241 -0.4433; wv_242 -0.3748; wv_243 0.7630; wv_244 -0.4088; wv_245 0.6025; wv_246 0.2012; wv_247 -0.6359; wv_248 -0.4591; wv_249 0.1401; wv_250 0.4468; wv_251 0.6163; wv_252 -0.1695; wv_253 0.6584; wv_254 0.6834; wv_255 0.1243; wv_256 0.7328; wv_257 0.7162; wv_258 0.0390; wv_259 0.8814; wv_260 -0.6809; wv_261 0.8991; wv_262 -0.2750; wv_263 -0.6953; wv_264 0.5335; wv_265 -0.1910; wv_266 0.5568; wv_267 0.0944; wv_268 -0.3495; wv_269 -0.6812; wv_270 -2.3046; wv_271 0.5687; wv_272 0.2427; wv_273 -0.0612; wv_274 -0.1580; wv_275 -0.0512; wv_276 0.6470; wv_277 -0.1030; wv_278 0.7459; wv_279 0.8092; wv_280 -1.6898; wv_281 -0.4881; wv_282 -0.1246; wv_283 -1.1651; wv_284 0.7342; wv_285 -1.3557; wv_286 -0.0535; wv_287 -1.3788; wv_288 0.0268; wv_289 -0.3416; wv_290 0.0260; wv_291 -0.2112; wv_292 -1.9211; wv_293 -0.4534; wv_294 0.0205; wv_295 -0.4116; wv_296 0.8374; wv_297 -0.2542; wv_298 0.7951; wv_299 -0.0637; ,in-class_submissions -0.5836; after-class_submisson 1.4464; sharing_outcomes -0.6331; student_discussions -0.2550; learning_groups -0.2466; wv_0 -0.0631; wv_1 -0.7116; wv_2 -0.9857; wv_3 -1.5596; wv_4 -0.0189; wv_5 1.4077; wv_6 0.5901; wv_7 -1.7574; wv_8 0.8290; wv_9 -2.1062; wv_10 -2.1869; wv_11 -1.4247; wv_12 1.9738; wv_13 0.5646; wv_14 -0.2790; wv_15 -1.0041; wv_16 -1.4682; wv_17 0.0334; wv_18 -0.2020; wv_19 -1.5775; wv_20 -0.1075; wv_21 -1.9681; wv_22 1.2823; wv_23 2.0545; wv_24 -1.7093; wv_25 0.3013; wv_26 -1.0317; wv_27 1.3900; wv_28 -4.5263; wv_29 0.3756; wv_30 -0.1111; wv_31 -3.9651; wv_32 -0.9852; wv_33 -0.1992; wv_34 -1.2729; wv_35 -0.3371; wv_36 -0.3467; wv_37 3.2293; wv_38 0.2791; wv_39 1.4809; wv_40 1.2191; wv_41 -0.5587; wv_42 1.0068; wv_43 2.6102; wv_44 1.1345; wv_45 -2.2542; wv_46 1.2564; wv_47 -2.4752; wv_48 -0.4356; wv_49 -1.1000; wv_50 -2.2692; wv_51 -0.8071; wv_52 -1.1610; wv_53 0.9880; wv_54 0.1865; wv_55 1.6970; wv_56 -0.5339; wv_57 2.0936; wv_58 0.8808; wv_59 1.5101; wv_60 0.0644; wv_61 1.2148; wv_62 1.4943; wv_63 0.3947; wv_64 -0.5754; wv_65 0.1388; wv_66 -0.5778; wv_67 -1.8392; wv_68 0.8154; wv_69 0.4833; wv_70 4.1084; wv_71 -0.1871; wv_72 0.8911; wv_73 1.0129; wv_74 1.9787; wv_75 -0.6499; wv_76 2.0344; wv_77 0.5741; wv_78 1.4580; wv_79 -2.0053; wv_80 2.2683; wv_81 -1.3814; wv_82 2.9727; wv_83 0.0759; wv_84 -1.5927; wv_85 1.4307; wv_86 -1.9676; wv_87 -0.3351; wv_88 -0.0348; wv_89 -0.8656; wv_90 -1.1854; wv_91 -0.7194; wv_92 -0.9146; wv_93 0.5883; wv_94 0.7211; wv_95 3.0164; wv_96 -0.5102; wv_97 0.7846; wv_98 1.5713; wv_99 -1.8820; wv_100 -0.2246; wv_101 -1.6633; wv_102 1.5831; wv_103 -0.8285; wv_104 2.0468; wv_105 0.3179; wv_106 -0.8291; wv_107 -2.3708; wv_108 -0.0419; wv_109 0.4670; wv_110 2.1046; wv_111 -1.3644; wv_112 1.6702; wv_113 2.0026; wv_114 -0.2550; wv_115 -1.2944; wv_116 2.0941; wv_117 -0.4761; wv_118 -1.4893; wv_119 1.0871; wv_120 3.4369; wv_121 2.4853; wv_122 1.5559; wv_123 -1.6821; wv_124 2.0453; wv_125 1.0632; wv_126 0.6837; wv_127 -1.3801; wv_128 -0.4461; wv_129 1.3260; wv_130 -2.8433; wv_131 0.3897; wv_132 -0.4167; wv_133 -2.4223; wv_134 -1.4325; wv_135 -1.9962; wv_136 -1.6984; wv_137 2.2135; wv_138 -1.4678; wv_139 0.7704; wv_140 2.3835; wv_141 1.3271; wv_142 2.5248; wv_143 -0.9154; wv_144 -0.8585; wv_145 -0.5575; wv_146 -0.3913; wv_147 1.5311; wv_148 -0.9879; wv_149 -0.2278; wv_150 -0.9291; wv_151 2.3076; wv_152 -1.2110; wv_153 2.2057; wv_154 1.1253; wv_155 -1.8626; wv_156 0.3639; wv_157 -1.0535; wv_158 0.8616; wv_159 1.5977; wv_160 0.2602; wv_161 1.2995; wv_162 -0.2351; wv_163 -0.3467; wv_164 2.4179; wv_165 -1.8207; wv_166 -1.8586; wv_167 0.2984; wv_168 -2.3163; wv_169 -2.1308; wv_170 -0.3600; wv_171 0.0674; wv_172 1.7025; wv_173 -3.2135; wv_174 0.2128; wv_175 -1.2324; wv_176 -0.5019; wv_177 0.9487; wv_178 0.7494; wv_179 4.0768; wv_180 0.5324; wv_181 -0.0046; wv_182 -1.6782; wv_183 0.2361; wv_184 -1.1466; wv_185 0.9566; wv_186 0.4134; wv_187 1.3562; wv_188 -3.7046; wv_189 -0.3700; wv_190 -1.5746; wv_191 1.8985; wv_192 1.5018; wv_193 0.1847; wv_194 1.0756; wv_195 1.3149; wv_196 0.0593; wv_197 -0.3642; wv_198 0.1573; wv_199 0.4508; wv_200 0.4200; wv_201 -0.7626; wv_202 -0.0116; wv_203 -0.4827; wv_204 1.9371; wv_205 1.8370; wv_206 -2.2976; wv_207 -1.4660; wv_208 -0.2171; wv_209 -1.2745; wv_210 0.3342; wv_211 0.6590; wv_212 -0.2889; wv_213 -0.6046; wv_214 0.6917; wv_215 -0.6356; wv_216 -0.5544; wv_217 0.4958; wv_218 2.0649; wv_219 -2.8469; wv_220 -0.7390; wv_221 -1.5872; wv_222 -0.3589; wv_223 -0.1186; wv_224 -1.8135; wv_225 0.1677; wv_226 0.7996; wv_227 1.2950; wv_228 0.0513; wv_229 3.0207; wv_230 -0.6487; wv_231 -0.4242; wv_232 1.5614; wv_233 0.9389; wv_234 -0.8643; wv_235 -0.4084; wv_236 -0.1959; wv_237 1.9373; wv_238 -0.4013; wv_239 -0.6785; wv_240 -1.2735; wv_241 2.1281; wv_242 -2.0081; wv_243 -1.2856; wv_244 1.1917; wv_245 -1.1523; wv_246 -0.1280; wv_247 -0.2637; wv_248 -1.3131; wv_249 2.3542; wv_250 3.1585; wv_251 0.1566; wv_252 -0.6808; wv_253 0.7636; wv_254 -2.5905; wv_255 -0.7311; wv_256 2.5998; wv_257 -1.2605; wv_258 0.9940; wv_259 -0.8755; wv_260 0.8876; wv_261 -1.7628; wv_262 -2.6142; wv_263 -0.9713; wv_264 0.0223; wv_265 0.7479; wv_266 -0.7154; wv_267 0.4058; wv_268 -2.6137; wv_269 0.2033; wv_270 -1.5426; wv_271 -1.3219; wv_272 -2.1381; wv_273 1.9018; wv_274 0.0171; wv_275 -1.1085; wv_276 -0.6700; wv_277 -0.3735; wv_278 -2.9199; wv_279 0.6728; wv_280 -0.2409; wv_281 0.7337; wv_282 -2.8015; wv_283 3.0864; wv_284 0.0505; wv_285 -1.6110; wv_286 -0.7399; wv_287 -0.0078; wv_288 -2.2440; wv_289 -1.5542; wv_290 -0.7919; wv_291 0.2338; wv_292 -0.5629; wv_293 0.6614; wv_294 0.9316; wv_295 -2.6479; wv_296 -0.2453; wv_297 1.5435; wv_298 -2.9148; wv_299 0.8438; ,in-class_submissions -0.5836; after-class_submisson -0.4067; sharing_outcomes 1.2402; student_discussions 4.6493; learning_groups 3.5117; wv_0 -0.6481; wv_1 1.4312; wv_2 1.2353; wv_3 -0.0816; wv_4 -1.0202; wv_5 0.0890; wv_6 0.9643; wv_7 -0.4808; wv_8 0.3561; wv_9 1.8652; wv_10 0.5834; wv_11 -1.1747; wv_12 0.9412; wv_13 -0.6985; wv_14 -0.0759; wv_15 0.2116; wv_16 -0.7151; wv_17 0.7624; wv_18 -1.9541; wv_19 -0.1799; wv_20 0.0629; wv_21 0.2919; wv_22 -0.4672; wv_23 -0.4384; wv_24 1.3634; wv_25 0.9254; wv_26 0.4209; wv_27 0.7747; wv_28 0.5212; wv_29 -0.0107; wv_30 -0.3791; wv_31 0.8805; wv_32 0.7763; wv_33 0.4552; wv_34 1.3449; wv_35 -0.8484; wv_36 -0.3971; wv_37 -0.8617; wv_38 0.3239; wv_39 0.9693; wv_40 -1.1424; wv_41 -0.7602; wv_42 -0.7111; wv_43 -0.1308; wv_44 0.1525; wv_45 0.3836; wv_46 -1.2674; wv_47 1.6259; wv_48 0.5296; wv_49 0.8841; wv_50 0.6495; wv_51 0.4225; wv_52 0.1421; wv_53 -1.4735; wv_54 -1.5114; wv_55 -0.1569; wv_56 0.9310; wv_57 0.3740; wv_58 -0.8037; wv_59 -0.9520; wv_60 0.7678; wv_61 0.1078; wv_62 -1.7682; wv_63 -0.9145; wv_64 0.0739; wv_65 0.3764; wv_66 -0.4838; wv_67 -0.7848; wv_68 -0.4275; wv_69 -0.8170; wv_70 0.1442; wv_71 -0.9065; wv_72 -1.0193; wv_73 -0.2358; wv_74 1.4798; wv_75 -1.0059; wv_76 0.8760; wv_77 0.4512; wv_78 0.9792; wv_79 -0.7183; wv_80 -0.6281; wv_81 -1.0081; wv_82 0.0310; wv_83 0.6592; wv_84 0.6580; wv_85 -0.5615; wv_86 0.9011; wv_87 1.0020; wv_88 0.9870; wv_89 -0.7264; wv_90 -0.7144; wv_91 0.0162; wv_92 1.1880; wv_93 -0.2928; wv_94 -1.6541; wv_95 -0.3837; wv_96 -0.0602; wv_97 0.8619; wv_98 -0.7729; wv_99 1.5169; wv_100 -0.4009; wv_101 -1.2293; wv_102 -2.4928; wv_103 -0.3365; wv_104 0.5379; wv_105 2.5695; wv_106 1.1334; wv_107 0.8664; wv_108 -0.2254; wv_109 1.1306; wv_110 1.4025; wv_111 2.5967; wv_112 0.0243; wv_113 -1.2388; wv_114 -1.3062; wv_115 -0.0120; wv_116 -0.8696; wv_117 0.6521; wv_118 1.4845; wv_119 -0.8544; wv_120 0.9563; wv_121 0.5853; wv_122 2.2641; wv_123 0.8679; wv_124 0.2715; wv_125 0.5016; wv_126 0.7029; wv_127 -0.0251; wv_128 0.2936; wv_129 -0.6626; wv_130 0.5001; wv_131 -0.3823; wv_132 0.1651; wv_133 1.3856; wv_134 0.3610; wv_135 1.2889; wv_136 -1.0240; wv_137 -1.2284; wv_138 -0.2809; wv_139 0.1864; wv_140 -3.4654; wv_141 0.6999; wv_142 -0.1282; wv_143 -0.4608; wv_144 -1.9649; wv_145 -1.0160; wv_146 -1.8525; wv_147 0.4702; wv_148 0.6880; wv_149 -1.6340; wv_150 -0.7795; wv_151 -0.5031; wv_152 -0.7103; wv_153 -1.7173; wv_154 0.0424; wv_155 -0.1257; wv_156 -0.1048; wv_157 -1.1373; wv_158 -1.0423; wv_159 0.1451; wv_160 -0.9103; wv_161 0.0266; wv_162 -0.4911; wv_163 1.1699; wv_164 0.2357; wv_165 0.0514; wv_166 -2.1034; wv_167 -1.1863; wv_168 1.0203; wv_169 -0.8532; wv_170 -0.3282; wv_171 1.3559; wv_172 0.7034; wv_173 -1.0595; wv_174 0.1884; wv_175 0.9091; wv_176 -1.4264; wv_177 -0.1951; wv_178 -0.3341; wv_179 -0.6130; wv_180 -1.9896; wv_181 -0.3383; wv_182 -1.5055; wv_183 -0.1166; wv_184 -1.5517; wv_185 -0.6761; wv_186 0.7234; wv_187 0.3290; wv_188 0.8024; wv_189 0.8036; wv_190 0.4381; wv_191 0.0370; wv_192 -0.2376; wv_193 1.4467; wv_194 -2.1898; wv_195 1.7154; wv_196 -0.4440; wv_197 0.2515; wv_198 -1.1040; wv_199 0.4205; wv_200 -1.1059; wv_201 -2.7988; wv_202 0.4948; wv_203 0.9021; wv_204 0.4181; wv_205 0.0254; wv_206 -2.0782; wv_207 -1.3382; wv_208 -0.8828; wv_209 -1.0949; wv_210 1.4221; wv_211 -0.9978; wv_212 1.8219; wv_213 1.3985; wv_214 0.7455; wv_215 -0.8654; wv_216 -1.5037; wv_217 1.1470; wv_218 1.8391; wv_219 0.5684; wv_220 0.2558; wv_221 0.8801; wv_222 2.0937; wv_223 -0.3525; wv_224 -0.1737; wv_225 -0.0872; wv_226 -1.2170; wv_227 0.1884; wv_228 -2.1461; wv_229 0.6433; wv_230 1.9742; wv_231 -0.7635; wv_232 -0.1068; wv_233 1.5759; wv_234 -0.3644; wv_235 0.2489; wv_236 -1.6919; wv_237 -1.0484; wv_238 -0.9675; wv_239 0.5988; wv_240 -0.9380; wv_241 -0.3650; wv_242 0.7988; wv_243 2.7485; wv_244 -0.1652; wv_245 1.4950; wv_246 -0.5639; wv_247 1.6887; wv_248 1.1030; wv_249 -1.1936; wv_250 -1.4713; wv_251 -0.5711; wv_252 0.9779; wv_253 0.5660; wv_254 -0.4872; wv_255 1.0245; wv_256 -2.3884; wv_257 -1.8100; wv_258 1.1115; wv_259 0.1650; wv_260 0.3379; wv_261 1.2095; wv_262 -1.7997; wv_263 1.5305; wv_264 -0.8647; wv_265 0.4556; wv_266 0.8635; wv_267 -0.1306; wv_268 3.4669; wv_269 0.2788; wv_270 1.3783; wv_271 -1.0782; wv_272 -0.0505; wv_273 0.7539; wv_274 0.7848; wv_275 1.3396; wv_276 0.7609; wv_277 1.0179; wv_278 0.7755; wv_279 1.4382; wv_280 0.2090; wv_281 2.9904; wv_282 1.2902; wv_283 1.7183; wv_284 0.6002; wv_285 0.6618; wv_286 -0.1974; wv_287 -1.8023; wv_288 -0.8246; wv_289 -0.2147; wv_290 0.9528; wv_291 -0.4441; wv_292 -1.2287; wv_293 0.7963; wv_294 -1.5404; wv_295 -0.1947; wv_296 0.3022; wv_297 0.9933; wv_298 0.7115; wv_299 1.7330; ,in-class_submissions -0.5836; after-class_submisson 1.5494; sharing_outcomes -0.6331; student_discussions -0.2550; learning_groups -0.2466; wv_0 -0.4065; wv_1 -1.0733; wv_2 -0.1752; wv_3 0.2888; wv_4 2.0517; wv_5 3.1932; wv_6 0.2619; wv_7 -1.6722; wv_8 0.1058; wv_9 0.9713; wv_10 -0.8802; wv_11 -0.8081; wv_12 1.8441; wv_13 0.3120; wv_14 -0.0487; wv_15 -1.4408; wv_16 -0.4841; wv_17 1.5218; wv_18 0.3892; wv_19 -0.9535; wv_20 -2.0035; wv_21 -3.6447; wv_22 1.0936; wv_23 1.5070; wv_24 -1.7324; wv_25 1.0516; wv_26 1.0824; wv_27 1.3473; wv_28 -1.3341; wv_29 0.4117; wv_30 -1.4834; wv_31 -0.4671; wv_32 0.9581; wv_33 1.4235; wv_34 -1.4742; wv_35 1.5112; wv_36 0.4639; wv_37 0.3702; wv_38 -0.4352; wv_39 2.7329; wv_40 0.3850; wv_41 1.8289; wv_42 1.8619; wv_43 1.0361; wv_44 2.6482; wv_45 -2.2056; wv_46 -0.4980; wv_47 -1.4400; wv_48 -0.7436; wv_49 -1.0846; wv_50 -0.2169; wv_51 0.4725; wv_52 1.1465; wv_53 0.9005; wv_54 -1.0124; wv_55 1.8555; wv_56 -0.0376; wv_57 0.3108; wv_58 -1.1396; wv_59 2.0177; wv_60 1.2774; wv_61 1.0855; wv_62 -0.5787; wv_63 -1.8748; wv_64 -1.8877; wv_65 -3.4955; wv_66 2.1626; wv_67 -0.3131; wv_68 2.1400; wv_69 0.7506; wv_70 0.5419; wv_71 -1.2556; wv_72 2.3753; wv_73 1.7655; wv_74 1.1534; wv_75 0.3568; wv_76 0.5959; wv_77 -0.6146; wv_78 1.8737; wv_79 -2.2012; wv_80 -0.8621; wv_81 0.2175; wv_82 0.1046; wv_83 -2.3923; wv_84 -0.1165; wv_85 -0.6364; wv_86 -0.8548; wv_87 1.2212; wv_88 0.8504; wv_89 -1.7420; wv_90 1.0843; wv_91 -0.4416; wv_92 -1.2524; wv_93 0.5738; wv_94 -1.2283; wv_95 1.5329; wv_96 0.7136; wv_97 -0.5895; wv_98 0.2196; wv_99 -2.2128; wv_100 -0.9423; wv_101 0.0684; wv_102 -0.1450; wv_103 -1.2898; wv_104 1.2680; wv_105 -1.4418; wv_106 0.5120; wv_107 -0.9249; wv_108 0.5397; wv_109 1.7118; wv_110 0.9328; wv_111 -2.7989; wv_112 2.3360; wv_113 1.5071; wv_114 -1.5005; wv_115 1.1747; wv_116 0.2118; wv_117 0.7817; wv_118 -3.2440; wv_119 -0.0195; wv_120 3.1150; wv_121 0.3626; wv_122 -0.1211; wv_123 -1.7063; wv_124 1.7944; wv_125 -0.5283; wv_126 -0.0070; wv_127 -3.6047; wv_128 0.5518; wv_129 -1.1162; wv_130 0.7713; wv_131 0.7561; wv_132 -0.1209; wv_133 -2.1875; wv_134 0.3826; wv_135 -1.5401; wv_136 -0.8575; wv_137 1.4728; wv_138 -1.5207; wv_139 2.6504; wv_140 1.4888; wv_141 1.1722; wv_142 2.1501; wv_143 0.9372; wv_144 0.0630; wv_145 -0.2692; wv_146 -1.7069; wv_147 3.2688; wv_148 -0.5700; wv_149 -0.7425; wv_150 -1.9534; wv_151 -0.2386; wv_152 -2.3761; wv_153 1.6392; wv_154 0.2464; wv_155 1.3928; wv_156 0.3125; wv_157 -0.5749; wv_158 2.9744; wv_159 -1.2440; wv_160 -0.9761; wv_161 1.4446; wv_162 -0.0884; wv_163 -0.9829; wv_164 1.1572; wv_165 -2.5019; wv_166 0.3881; wv_167 1.2370; wv_168 -2.1488; wv_169 -2.0864; wv_170 -1.6634; wv_171 -1.8917; wv_172 2.8552; wv_173 -0.6672; wv_174 -0.0816; wv_175 0.3931; wv_176 2.5652; wv_177 -1.5212; wv_178 -0.6407; wv_179 0.7580; wv_180 -0.5192; wv_181 1.3979; wv_182 1.0329; wv_183 -1.8156; wv_184 -0.4714; wv_185 -0.1080; wv_186 -1.6273; wv_187 0.1575; wv_188 -0.1314; wv_189 1.4524; wv_190 0.1455; wv_191 -2.0976; wv_192 2.0635; wv_193 2.6087; wv_194 1.5042; wv_195 1.4485; wv_196 -0.4343; wv_197 -0.2802; wv_198 -1.2947; wv_199 1.1137; wv_200 1.0861; wv_201 -0.0991; wv_202 -0.0886; wv_203 0.1744; wv_204 2.0780; wv_205 -1.7042; wv_206 -1.0227; wv_207 -0.4993; wv_208 0.9354; wv_209 -2.3270; wv_210 0.7982; wv_211 2.0799; wv_212 -1.9913; wv_213 -1.6325; wv_214 1.4984; wv_215 -1.8476; wv_216 -1.7710; wv_217 0.1085; wv_218 2.1829; wv_219 -0.9815; wv_220 0.5234; wv_221 -0.6195; wv_222 -1.1850; wv_223 -1.0155; wv_224 1.5632; wv_225 -0.4857; wv_226 -1.1350; wv_227 2.2565; wv_228 -2.0597; wv_229 1.3726; wv_230 1.1697; wv_231 -0.2665; wv_232 2.8373; wv_233 0.3916; wv_234 -1.9925; wv_235 0.4216; wv_236 -0.5769; wv_237 -0.4582; wv_238 -0.8956; wv_239 -1.8328; wv_240 -2.2850; wv_241 1.4265; wv_242 -0.5246; wv_243 -0.7454; wv_244 0.9388; wv_245 0.7525; wv_246 -0.0493; wv_247 -1.3828; wv_248 -0.2520; wv_249 -0.2349; wv_250 1.6909; wv_251 0.6679; wv_252 -0.5221; wv_253 -0.8080; wv_254 -0.0731; wv_255 0.0714; wv_256 0.9769; wv_257 1.2394; wv_258 -1.4268; wv_259 -0.4252; wv_260 -1.8533; wv_261 -0.4773; wv_262 0.3092; wv_263 0.0468; wv_264 -1.4767; wv_265 -0.2810; wv_266 0.8262; wv_267 -0.0826; wv_268 -0.7196; wv_269 2.0916; wv_270 -0.7800; wv_271 -1.1766; wv_272 -2.2919; wv_273 0.4515; wv_274 -2.3449; wv_275 -1.9942; wv_276 -0.7281; wv_277 1.2684; wv_278 0.7630; wv_279 -0.4613; wv_280 0.5645; wv_281 2.6154; wv_282 -2.4603; wv_283 1.8893; wv_284 0.5759; wv_285 0.6932; wv_286 0.4476; wv_287 0.6796; wv_288 0.9468; wv_289 -0.8307; wv_290 -1.3368; wv_291 1.8241; wv_292 1.1311; wv_293 0.6233; wv_294 0.1311; wv_295 -0.2896; wv_296 0.7296; wv_297 0.7468; wv_298 -2.7593; wv_299 2.1851; \n",
       "y: CategoryList\n",
       "0,1,0,1,0\n",
       "Path: data/artifact-technology-classification;\n",
       "\n",
       "Test: LabelList (24 items)\n",
       "x: TabularList\n",
       "in-class_submissions -0.5836; after-class_submisson -0.4067; sharing_outcomes -0.6331; student_discussions -0.2550; learning_groups -0.2466; wv_0 2.4845; wv_1 -3.0329; wv_2 1.5139; wv_3 -1.2433; wv_4 -1.5703; wv_5 -1.9556; wv_6 -1.5241; wv_7 -0.3355; wv_8 -0.0423; wv_9 0.6644; wv_10 -0.7931; wv_11 0.9605; wv_12 -1.3276; wv_13 2.7127; wv_14 -0.0326; wv_15 -1.1329; wv_16 1.4596; wv_17 -1.3672; wv_18 1.6023; wv_19 -1.3319; wv_20 -1.0828; wv_21 0.6537; wv_22 1.5860; wv_23 0.1219; wv_24 0.8374; wv_25 -2.0646; wv_26 -1.7563; wv_27 -1.6649; wv_28 1.4705; wv_29 -1.5032; wv_30 2.2375; wv_31 1.9889; wv_32 -0.0542; wv_33 0.1723; wv_34 -0.3535; wv_35 2.2535; wv_36 2.5085; wv_37 -0.1437; wv_38 1.6423; wv_39 -0.5786; wv_40 1.1162; wv_41 0.0890; wv_42 -1.4418; wv_43 -1.7943; wv_44 -0.1541; wv_45 -0.0132; wv_46 -0.1412; wv_47 -1.9484; wv_48 1.3086; wv_49 1.5673; wv_50 -0.6834; wv_51 2.8885; wv_52 0.3878; wv_53 -2.1161; wv_54 -0.5379; wv_55 2.4949; wv_56 -2.0269; wv_57 -2.2779; wv_58 1.5040; wv_59 -1.0097; wv_60 -0.1117; wv_61 -1.2514; wv_62 2.1858; wv_63 -0.7186; wv_64 0.0695; wv_65 1.0718; wv_66 -0.4519; wv_67 -0.3069; wv_68 1.3712; wv_69 -1.7283; wv_70 -0.7745; wv_71 -0.3908; wv_72 -0.1516; wv_73 -2.2452; wv_74 -1.9584; wv_75 -0.2893; wv_76 2.0544; wv_77 -1.3199; wv_78 -0.2105; wv_79 1.0864; wv_80 1.2381; wv_81 -1.4380; wv_82 -1.3702; wv_83 1.3691; wv_84 0.4748; wv_85 -1.2430; wv_86 -0.6421; wv_87 0.9061; wv_88 -1.6617; wv_89 3.0163; wv_90 -2.5866; wv_91 -0.2863; wv_92 -0.8026; wv_93 1.0885; wv_94 1.3592; wv_95 1.2823; wv_96 1.0491; wv_97 1.2053; wv_98 0.7231; wv_99 0.3178; wv_100 0.4138; wv_101 2.3611; wv_102 1.8168; wv_103 2.0520; wv_104 1.9980; wv_105 -1.2362; wv_106 -0.5859; wv_107 0.0698; wv_108 -2.6507; wv_109 -0.1976; wv_110 -1.3145; wv_111 1.1964; wv_112 2.5713; wv_113 -1.0829; wv_114 2.4112; wv_115 -1.0028; wv_116 -0.9294; wv_117 -1.2123; wv_118 -0.2436; wv_119 -1.6680; wv_120 0.2525; wv_121 -2.5743; wv_122 -0.3597; wv_123 -1.0152; wv_124 -0.9094; wv_125 -2.4910; wv_126 -1.1728; wv_127 -0.8626; wv_128 -2.1844; wv_129 -1.0548; wv_130 -1.0466; wv_131 1.1260; wv_132 -0.8839; wv_133 -2.4147; wv_134 2.7620; wv_135 1.2904; wv_136 -1.0907; wv_137 -0.1615; wv_138 -2.1835; wv_139 -1.7213; wv_140 0.6890; wv_141 2.1644; wv_142 1.2185; wv_143 0.4380; wv_144 1.3072; wv_145 0.7687; wv_146 2.2638; wv_147 -1.7557; wv_148 0.6795; wv_149 -0.1493; wv_150 -1.6000; wv_151 1.4805; wv_152 2.5029; wv_153 2.4014; wv_154 1.7664; wv_155 2.6502; wv_156 3.0999; wv_157 0.8437; wv_158 -0.6588; wv_159 1.4068; wv_160 0.4847; wv_161 -1.5858; wv_162 3.5970; wv_163 0.1406; wv_164 -1.1294; wv_165 -1.3693; wv_166 0.3456; wv_167 1.7575; wv_168 0.3304; wv_169 0.7373; wv_170 0.5817; wv_171 0.0293; wv_172 -0.8924; wv_173 0.3505; wv_174 -1.2873; wv_175 -0.7551; wv_176 0.2417; wv_177 1.0254; wv_178 -2.7713; wv_179 -0.9023; wv_180 -1.6114; wv_181 1.3898; wv_182 1.5548; wv_183 -0.7664; wv_184 1.2523; wv_185 1.3065; wv_186 -0.7656; wv_187 -1.4623; wv_188 -1.1457; wv_189 1.0120; wv_190 -2.2909; wv_191 1.1956; wv_192 -0.5750; wv_193 -0.8999; wv_194 0.1799; wv_195 -2.2929; wv_196 -3.3443; wv_197 -1.8065; wv_198 2.5391; wv_199 -1.5485; wv_200 1.0119; wv_201 1.1507; wv_202 -2.5477; wv_203 1.8178; wv_204 1.1219; wv_205 1.0803; wv_206 0.0177; wv_207 2.4002; wv_208 1.7493; wv_209 -1.6741; wv_210 -0.2520; wv_211 0.9831; wv_212 -1.4861; wv_213 -2.3920; wv_214 -1.5356; wv_215 1.8056; wv_216 -0.6621; wv_217 2.8671; wv_218 -0.1993; wv_219 -0.3973; wv_220 2.1855; wv_221 -0.3866; wv_222 1.4428; wv_223 -0.2427; wv_224 -0.9773; wv_225 0.4124; wv_226 -1.3787; wv_227 -1.7714; wv_228 0.9977; wv_229 -1.2664; wv_230 -0.6375; wv_231 1.0406; wv_232 1.1470; wv_233 0.9327; wv_234 1.0421; wv_235 -1.6043; wv_236 0.1608; wv_237 0.4175; wv_238 -0.7529; wv_239 0.2670; wv_240 -0.3114; wv_241 1.2312; wv_242 -1.6495; wv_243 0.8518; wv_244 -0.9861; wv_245 -2.8669; wv_246 -2.3980; wv_247 -1.8259; wv_248 -2.1544; wv_249 0.1193; wv_250 -2.2871; wv_251 -1.3114; wv_252 -0.7924; wv_253 0.9536; wv_254 -2.1716; wv_255 1.1035; wv_256 0.0823; wv_257 0.1012; wv_258 -0.5732; wv_259 1.2662; wv_260 -1.0760; wv_261 -2.0082; wv_262 -0.7200; wv_263 1.7073; wv_264 1.6645; wv_265 -1.1082; wv_266 -0.6719; wv_267 -1.4670; wv_268 -0.5741; wv_269 -1.7658; wv_270 -0.6518; wv_271 -0.6837; wv_272 -1.2933; wv_273 -0.1967; wv_274 -1.7702; wv_275 -0.7889; wv_276 -1.4116; wv_277 0.8913; wv_278 -0.2559; wv_279 -1.1243; wv_280 -1.7005; wv_281 -0.6970; wv_282 -1.2094; wv_283 -1.5478; wv_284 1.1893; wv_285 0.6193; wv_286 -1.0423; wv_287 2.1063; wv_288 0.6642; wv_289 -1.2464; wv_290 -1.5978; wv_291 -0.9871; wv_292 1.2974; wv_293 -0.9842; wv_294 -0.6024; wv_295 0.6752; wv_296 -2.3849; wv_297 1.3243; wv_298 -1.1575; wv_299 -0.5371; ,in-class_submissions -0.5836; after-class_submisson -0.4067; sharing_outcomes 0.7719; student_discussions -0.2550; learning_groups -0.2466; wv_0 -0.2421; wv_1 0.6547; wv_2 -1.0842; wv_3 0.3705; wv_4 -0.0732; wv_5 -0.2760; wv_6 -0.6273; wv_7 0.3264; wv_8 0.1515; wv_9 0.2790; wv_10 1.0989; wv_11 0.0986; wv_12 -0.4433; wv_13 -0.2704; wv_14 -0.1945; wv_15 -0.4447; wv_16 0.1660; wv_17 -0.9000; wv_18 0.6160; wv_19 -0.3552; wv_20 0.0960; wv_21 -0.0546; wv_22 -0.7375; wv_23 -1.3087; wv_24 0.3601; wv_25 -0.5397; wv_26 0.5754; wv_27 -0.3553; wv_28 -0.0438; wv_29 0.1000; wv_30 -0.7844; wv_31 -0.2330; wv_32 0.3082; wv_33 0.5702; wv_34 -0.0908; wv_35 -0.3623; wv_36 -0.4037; wv_37 0.2141; wv_38 0.2369; wv_39 -0.1035; wv_40 0.3743; wv_41 -0.2928; wv_42 -0.4651; wv_43 -1.6536; wv_44 0.4684; wv_45 -0.2224; wv_46 0.7546; wv_47 0.3363; wv_48 -0.7853; wv_49 -0.8791; wv_50 0.0533; wv_51 1.5056; wv_52 0.9209; wv_53 0.2120; wv_54 1.4197; wv_55 -0.0124; wv_56 0.3215; wv_57 0.1966; wv_58 0.2784; wv_59 -1.1921; wv_60 -1.0723; wv_61 0.2982; wv_62 -0.3343; wv_63 -0.0573; wv_64 -0.6277; wv_65 -0.1605; wv_66 -0.0715; wv_67 -0.7860; wv_68 -0.3980; wv_69 -0.4501; wv_70 -0.9527; wv_71 -0.0200; wv_72 -0.3995; wv_73 0.3337; wv_74 0.3066; wv_75 0.6673; wv_76 -0.9135; wv_77 0.1708; wv_78 0.4926; wv_79 0.5044; wv_80 -0.4246; wv_81 0.1114; wv_82 0.5061; wv_83 -0.9565; wv_84 -0.3477; wv_85 -0.1478; wv_86 0.7440; wv_87 0.1981; wv_88 0.4262; wv_89 -0.0115; wv_90 -0.4843; wv_91 0.1518; wv_92 -0.2928; wv_93 0.1340; wv_94 1.1945; wv_95 -0.2882; wv_96 0.4913; wv_97 -0.3091; wv_98 0.3032; wv_99 -0.5409; wv_100 0.1364; wv_101 0.1663; wv_102 0.1419; wv_103 0.6956; wv_104 -0.3930; wv_105 -0.0280; wv_106 0.8067; wv_107 0.0588; wv_108 0.3335; wv_109 0.0864; wv_110 -0.6674; wv_111 -0.3322; wv_112 -0.3187; wv_113 -0.3496; wv_114 -0.1835; wv_115 0.7673; wv_116 0.0490; wv_117 -2.0388; wv_118 0.4039; wv_119 0.3641; wv_120 0.1399; wv_121 0.9106; wv_122 -1.0093; wv_123 -1.2033; wv_124 -0.4438; wv_125 0.4929; wv_126 -1.0630; wv_127 1.1666; wv_128 0.7355; wv_129 -0.1181; wv_130 -0.0682; wv_131 0.0659; wv_132 -1.1311; wv_133 0.9147; wv_134 -1.6391; wv_135 0.2025; wv_136 0.0854; wv_137 0.5205; wv_138 -0.1203; wv_139 0.3748; wv_140 -0.2933; wv_141 -0.4974; wv_142 0.2519; wv_143 -0.4400; wv_144 -0.7079; wv_145 -1.1442; wv_146 0.1451; wv_147 0.2942; wv_148 0.4867; wv_149 0.1310; wv_150 0.5917; wv_151 -0.6916; wv_152 0.1034; wv_153 -0.7935; wv_154 -0.6661; wv_155 0.2100; wv_156 -0.3328; wv_157 -0.6707; wv_158 -0.0711; wv_159 -0.7604; wv_160 -0.1253; wv_161 -0.5981; wv_162 -0.0464; wv_163 1.3432; wv_164 -0.2534; wv_165 1.2764; wv_166 -0.6927; wv_167 -0.3024; wv_168 0.2041; wv_169 -0.4458; wv_170 0.7432; wv_171 -0.3451; wv_172 -0.0478; wv_173 -0.2288; wv_174 1.1940; wv_175 -0.9051; wv_176 -0.6688; wv_177 0.6474; wv_178 -0.3312; wv_179 0.0250; wv_180 1.2231; wv_181 -0.5893; wv_182 -0.3487; wv_183 0.2178; wv_184 0.1079; wv_185 0.4854; wv_186 -0.7182; wv_187 -1.5961; wv_188 -0.9609; wv_189 0.6310; wv_190 -0.0324; wv_191 0.3145; wv_192 1.3963; wv_193 0.3017; wv_194 1.6041; wv_195 -0.7516; wv_196 0.1724; wv_197 0.1045; wv_198 0.7450; wv_199 0.9931; wv_200 0.4956; wv_201 1.3023; wv_202 0.0983; wv_203 -1.1180; wv_204 -0.6307; wv_205 0.3594; wv_206 -1.1642; wv_207 0.0335; wv_208 -0.2280; wv_209 1.0465; wv_210 0.6594; wv_211 0.5043; wv_212 -0.3169; wv_213 0.5789; wv_214 0.0232; wv_215 0.2043; wv_216 -0.5490; wv_217 -0.5379; wv_218 -1.0456; wv_219 0.7570; wv_220 -0.7464; wv_221 0.1482; wv_222 0.3405; wv_223 -0.3721; wv_224 -0.2547; wv_225 0.9385; wv_226 0.9305; wv_227 0.3578; wv_228 -0.7362; wv_229 -0.6237; wv_230 -0.5960; wv_231 -0.0734; wv_232 0.1904; wv_233 -0.3777; wv_234 0.9911; wv_235 0.0376; wv_236 -0.4460; wv_237 0.0357; wv_238 -0.0576; wv_239 -0.4713; wv_240 0.8040; wv_241 0.0493; wv_242 0.5868; wv_243 -1.0476; wv_244 -0.1400; wv_245 0.2090; wv_246 1.3002; wv_247 -0.0084; wv_248 0.2855; wv_249 -0.0120; wv_250 -0.5682; wv_251 0.0042; wv_252 1.0068; wv_253 -0.0281; wv_254 -0.2962; wv_255 1.1494; wv_256 0.1866; wv_257 -0.2183; wv_258 0.3054; wv_259 -0.9668; wv_260 -0.5090; wv_261 0.3568; wv_262 0.5926; wv_263 -0.2459; wv_264 -0.3856; wv_265 -0.1117; wv_266 0.2799; wv_267 0.4259; wv_268 -0.6883; wv_269 0.2462; wv_270 -0.4162; wv_271 0.6300; wv_272 -0.0507; wv_273 -0.1730; wv_274 -0.0738; wv_275 -0.2986; wv_276 1.1676; wv_277 -0.5485; wv_278 1.0088; wv_279 -0.2884; wv_280 0.5926; wv_281 0.7467; wv_282 0.0192; wv_283 0.0477; wv_284 -0.3967; wv_285 -0.5026; wv_286 -0.2557; wv_287 -1.0100; wv_288 -0.4310; wv_289 0.7476; wv_290 -0.1244; wv_291 0.2325; wv_292 -2.1832; wv_293 -1.0396; wv_294 -0.0845; wv_295 -0.0947; wv_296 -0.3334; wv_297 -0.1787; wv_298 -0.2928; wv_299 1.6307; ,in-class_submissions -0.5836; after-class_submisson 2.3730; sharing_outcomes -0.6331; student_discussions -0.2550; learning_groups -0.2466; wv_0 1.3650; wv_1 -1.9757; wv_2 0.8969; wv_3 -0.7189; wv_4 -1.1434; wv_5 -0.8532; wv_6 -0.7738; wv_7 -0.3857; wv_8 -0.0406; wv_9 0.4550; wv_10 -0.5219; wv_11 0.3273; wv_12 -0.5559; wv_13 1.5869; wv_14 -0.0730; wv_15 -1.1268; wv_16 0.7699; wv_17 -1.0470; wv_18 1.0816; wv_19 -0.9390; wv_20 -0.8544; wv_21 0.1211; wv_22 1.0891; wv_23 0.3725; wv_24 0.2403; wv_25 -1.4200; wv_26 -0.9439; wv_27 -0.9675; wv_28 0.9567; wv_29 -1.3975; wv_30 1.2047; wv_31 1.3140; wv_32 0.1098; wv_33 -0.0171; wv_34 -0.1666; wv_35 1.3116; wv_36 1.5776; wv_37 0.0650; wv_38 1.3063; wv_39 -0.4021; wv_40 1.1528; wv_41 0.2995; wv_42 -1.0173; wv_43 -1.2909; wv_44 0.5329; wv_45 -0.2226; wv_46 -0.1882; wv_47 -1.2346; wv_48 0.5552; wv_49 0.7712; wv_50 -0.2957; wv_51 1.8495; wv_52 0.5352; wv_53 -1.3951; wv_54 -0.3490; wv_55 1.7953; wv_56 -1.4437; wv_57 -1.6189; wv_58 0.8630; wv_59 -0.4208; wv_60 0.0812; wv_61 -0.9279; wv_62 1.3492; wv_63 -0.9042; wv_64 -0.5496; wv_65 0.1856; wv_66 -0.0717; wv_67 0.1283; wv_68 1.0936; wv_69 -0.8585; wv_70 -0.2687; wv_71 -0.4172; wv_72 0.1281; wv_73 -1.1298; wv_74 -1.1886; wv_75 0.0216; wv_76 1.2794; wv_77 -0.9244; wv_78 0.0961; wv_79 0.5876; wv_80 0.6021; wv_81 -0.7367; wv_82 -0.9370; wv_83 0.3933; wv_84 0.4945; wv_85 -0.5684; wv_86 -0.4083; wv_87 1.0630; wv_88 -0.8492; wv_89 1.8316; wv_90 -1.5853; wv_91 0.1204; wv_92 -0.7708; wv_93 0.8679; wv_94 0.7465; wv_95 0.9850; wv_96 1.0391; wv_97 0.8493; wv_98 0.7400; wv_99 -0.2921; wv_100 0.0205; wv_101 1.6654; wv_102 1.6531; wv_103 1.1061; wv_104 1.6589; wv_105 -1.0894; wv_106 -0.4584; wv_107 0.0776; wv_108 -1.7326; wv_109 0.1448; wv_110 -0.7596; wv_111 0.6001; wv_112 1.9156; wv_113 -0.8115; wv_114 1.3570; wv_115 -0.3114; wv_116 -0.6429; wv_117 -0.8575; wv_118 -0.2478; wv_119 -1.0984; wv_120 0.4118; wv_121 -1.7008; wv_122 -0.4102; wv_123 -1.0897; wv_124 -0.4070; wv_125 -1.5889; wv_126 -1.1714; wv_127 -0.8307; wv_128 -1.2617; wv_129 -0.8356; wv_130 -0.4758; wv_131 0.6537; wv_132 -0.9336; wv_133 -1.8242; wv_134 1.9842; wv_135 0.5786; wv_136 -0.6244; wv_137 0.0043; wv_138 -1.4074; wv_139 -0.7820; wv_140 0.6699; wv_141 1.2664; wv_142 1.1264; wv_143 0.2820; wv_144 1.0169; wv_145 0.3875; wv_146 1.1655; wv_147 -0.4759; wv_148 0.3151; wv_149 -0.0341; wv_150 -1.0663; wv_151 0.6261; wv_152 1.2050; wv_153 1.5173; wv_154 1.3937; wv_155 2.0374; wv_156 1.9388; wv_157 0.3205; wv_158 -0.0252; wv_159 0.6030; wv_160 -0.0201; wv_161 -0.6208; wv_162 2.3613; wv_163 0.2439; wv_164 -0.4179; wv_165 -1.1882; wv_166 0.1008; wv_167 1.2852; wv_168 0.1362; wv_169 0.3207; wv_170 0.3602; wv_171 -0.4477; wv_172 -0.0932; wv_173 -0.0202; wv_174 -0.5788; wv_175 -0.5279; wv_176 0.4708; wv_177 0.5547; wv_178 -1.7270; wv_179 -0.6744; wv_180 -0.8651; wv_181 0.9470; wv_182 1.2477; wv_183 -0.4938; wv_184 0.5472; wv_185 1.1983; wv_186 -0.9673; wv_187 -0.7967; wv_188 -0.7870; wv_189 1.0234; wv_190 -1.2874; wv_191 0.5984; wv_192 -0.2966; wv_193 -0.3676; wv_194 0.1762; wv_195 -1.3220; wv_196 -2.1919; wv_197 -1.3610; wv_198 1.5926; wv_199 -0.9998; wv_200 1.0792; wv_201 0.8012; wv_202 -1.6546; wv_203 1.0255; wv_204 0.9507; wv_205 0.3294; wv_206 -0.4921; wv_207 1.8550; wv_208 1.0803; wv_209 -0.8829; wv_210 0.1326; wv_211 0.8006; wv_212 -1.2098; wv_213 -1.5826; wv_214 -0.4813; wv_215 1.1358; wv_216 -0.7978; wv_217 1.9345; wv_218 -0.0856; wv_219 -0.8314; wv_220 1.6863; wv_221 -0.3006; wv_222 0.9356; wv_223 0.0324; wv_224 -0.5530; wv_225 0.3504; wv_226 -1.0278; wv_227 -0.8256; wv_228 0.4849; wv_229 -0.8564; wv_230 -0.0915; wv_231 0.6511; wv_232 1.2824; wv_233 0.2903; wv_234 0.4397; wv_235 -0.8633; wv_236 -0.0558; wv_237 -0.0727; wv_238 -0.7856; wv_239 -0.1648; wv_240 -0.2804; wv_241 0.6722; wv_242 -1.0307; wv_243 0.4196; wv_244 -0.7976; wv_245 -1.7244; wv_246 -1.4447; wv_247 -0.9911; wv_248 -1.4720; wv_249 -0.2329; wv_250 -1.3848; wv_251 -0.8798; wv_252 -0.5602; wv_253 0.6839; wv_254 -1.6308; wv_255 0.8056; wv_256 -0.1235; wv_257 0.0752; wv_258 -0.6895; wv_259 0.5694; wv_260 -1.1247; wv_261 -1.3293; wv_262 -0.3591; wv_263 0.8666; wv_264 1.0595; wv_265 -0.9970; wv_266 -0.1197; wv_267 -0.9041; wv_268 -0.3585; wv_269 -1.1535; wv_270 -0.2793; wv_271 -0.3918; wv_272 -0.8016; wv_273 -0.1001; wv_274 -1.4625; wv_275 -0.7885; wv_276 -1.0010; wv_277 0.7842; wv_278 0.1777; wv_279 -0.5966; wv_280 -1.2194; wv_281 -0.3227; wv_282 -1.1125; wv_283 -0.9272; wv_284 0.9484; wv_285 0.5279; wv_286 -0.9773; wv_287 1.1393; wv_288 0.4408; wv_289 -0.6949; wv_290 -1.0943; wv_291 -0.5289; wv_292 0.7702; wv_293 -0.7707; wv_294 -0.4114; wv_295 0.4050; wv_296 -1.6429; wv_297 1.0652; wv_298 -1.1660; wv_299 -0.1006; ,in-class_submissions -0.5836; after-class_submisson 1.4464; sharing_outcomes -0.6331; student_discussions -0.2550; learning_groups -0.2466; wv_0 -0.4337; wv_1 0.7317; wv_2 1.1197; wv_3 1.0007; wv_4 1.1992; wv_5 -0.3269; wv_6 -1.3963; wv_7 0.0759; wv_8 0.8136; wv_9 1.2367; wv_10 0.2922; wv_11 -0.0516; wv_12 -0.0100; wv_13 -0.5096; wv_14 -0.2859; wv_15 -0.1949; wv_16 -0.0361; wv_17 -0.0294; wv_18 0.3193; wv_19 0.9875; wv_20 -0.6978; wv_21 0.2013; wv_22 -0.7455; wv_23 1.0584; wv_24 0.1238; wv_25 1.7643; wv_26 -0.9890; wv_27 -0.4980; wv_28 -0.7399; wv_29 1.2742; wv_30 -0.5847; wv_31 -1.0228; wv_32 0.1091; wv_33 -1.5749; wv_34 0.8748; wv_35 1.8842; wv_36 -0.1277; wv_37 -0.1919; wv_38 0.1460; wv_39 1.2657; wv_40 1.2951; wv_41 -0.1552; wv_42 0.2633; wv_43 -1.7053; wv_44 0.1471; wv_45 -0.7228; wv_46 -0.2222; wv_47 -1.3159; wv_48 2.1506; wv_49 0.4195; wv_50 -0.4878; wv_51 0.1656; wv_52 0.7467; wv_53 -2.0328; wv_54 -0.8646; wv_55 -1.4664; wv_56 2.3902; wv_57 -1.1661; wv_58 1.3746; wv_59 0.8656; wv_60 0.1223; wv_61 -0.5016; wv_62 0.0160; wv_63 -1.2989; wv_64 0.8225; wv_65 2.7240; wv_66 1.3359; wv_67 -0.2317; wv_68 -1.2300; wv_69 -0.5057; wv_70 -0.7958; wv_71 1.2596; wv_72 0.2942; wv_73 0.5579; wv_74 -1.0252; wv_75 -1.1619; wv_76 -0.5233; wv_77 -0.3864; wv_78 0.7908; wv_79 -0.6646; wv_80 -1.5982; wv_81 -1.2364; wv_82 -1.4688; wv_83 -0.4224; wv_84 -0.0991; wv_85 -1.8061; wv_86 0.9479; wv_87 0.1743; wv_88 0.6719; wv_89 0.3892; wv_90 1.7886; wv_91 0.5127; wv_92 -0.3625; wv_93 -0.8182; wv_94 1.0864; wv_95 1.6580; wv_96 0.3600; wv_97 -1.1447; wv_98 -0.6574; wv_99 0.0003; wv_100 0.4145; wv_101 0.1412; wv_102 -0.6122; wv_103 -1.2099; wv_104 -0.5448; wv_105 0.2577; wv_106 0.8930; wv_107 -0.8389; wv_108 0.1159; wv_109 0.6060; wv_110 -2.8729; wv_111 -0.6394; wv_112 0.2686; wv_113 0.1395; wv_114 -1.3548; wv_115 -0.8040; wv_116 0.3802; wv_117 1.4811; wv_118 -0.6106; wv_119 -0.5081; wv_120 -0.1743; wv_121 1.7409; wv_122 -1.8744; wv_123 -0.8785; wv_124 -2.5195; wv_125 -0.1139; wv_126 0.7462; wv_127 0.0385; wv_128 -0.7601; wv_129 0.3464; wv_130 0.8138; wv_131 0.0698; wv_132 0.2296; wv_133 0.9786; wv_134 -0.8634; wv_135 0.7152; wv_136 -0.0053; wv_137 -1.1960; wv_138 -0.8750; wv_139 -0.1263; wv_140 -0.4552; wv_141 -0.5842; wv_142 -0.2921; wv_143 -0.5862; wv_144 -0.5016; wv_145 2.9634; wv_146 0.1208; wv_147 -0.9551; wv_148 0.3373; wv_149 0.1910; wv_150 -1.7981; wv_151 -0.5683; wv_152 0.2049; wv_153 0.4995; wv_154 -0.7314; wv_155 0.4974; wv_156 -0.6470; wv_157 0.4584; wv_158 -0.7882; wv_159 1.6278; wv_160 -0.3053; wv_161 -0.5630; wv_162 0.1196; wv_163 1.3428; wv_164 -0.3812; wv_165 -1.0445; wv_166 0.4455; wv_167 -1.0046; wv_168 0.3488; wv_169 0.1252; wv_170 -0.1455; wv_171 2.4635; wv_172 1.6897; wv_173 -2.0820; wv_174 0.2841; wv_175 0.2777; wv_176 0.3285; wv_177 -1.2731; wv_178 -1.7258; wv_179 -2.0450; wv_180 -1.1339; wv_181 -0.0414; wv_182 -0.3583; wv_183 -0.4827; wv_184 1.2466; wv_185 -0.9579; wv_186 0.8554; wv_187 -1.7663; wv_188 1.5053; wv_189 -0.8693; wv_190 -1.0617; wv_191 -0.6299; wv_192 0.4107; wv_193 0.5327; wv_194 -1.4214; wv_195 -1.4820; wv_196 0.8432; wv_197 -0.3785; wv_198 -0.6968; wv_199 0.6158; wv_200 -0.8169; wv_201 -0.2117; wv_202 -1.0204; wv_203 -0.5035; wv_204 -0.4869; wv_205 1.5310; wv_206 -0.4166; wv_207 0.5327; wv_208 0.5953; wv_209 0.0237; wv_210 -0.6429; wv_211 -1.0752; wv_212 -1.2153; wv_213 -1.0700; wv_214 -0.0916; wv_215 0.5026; wv_216 0.3873; wv_217 -0.2291; wv_218 0.0580; wv_219 -0.6551; wv_220 -0.9002; wv_221 0.6087; wv_222 -0.7949; wv_223 -1.9003; wv_224 3.6889; wv_225 0.7961; wv_226 1.4310; wv_227 1.0254; wv_228 -1.5793; wv_229 0.5503; wv_230 -0.3725; wv_231 1.0963; wv_232 0.5015; wv_233 0.2993; wv_234 1.7348; wv_235 0.5838; wv_236 -2.0798; wv_237 -0.7719; wv_238 0.7899; wv_239 2.5131; wv_240 -1.3318; wv_241 -0.7669; wv_242 0.9992; wv_243 -1.0961; wv_244 1.8246; wv_245 0.5656; wv_246 -0.1685; wv_247 -0.9189; wv_248 -1.0709; wv_249 0.9498; wv_250 0.8148; wv_251 0.9430; wv_252 0.0146; wv_253 1.5230; wv_254 0.2585; wv_255 1.0430; wv_256 -1.2101; wv_257 1.8702; wv_258 -0.9879; wv_259 -2.7924; wv_260 -0.8712; wv_261 -0.7229; wv_262 -0.9505; wv_263 0.8376; wv_264 0.5687; wv_265 1.7435; wv_266 -1.0963; wv_267 2.1844; wv_268 2.4811; wv_269 0.7704; wv_270 0.1291; wv_271 -0.1900; wv_272 -0.0069; wv_273 -0.3841; wv_274 0.2347; wv_275 1.5002; wv_276 -1.1945; wv_277 1.1832; wv_278 0.2208; wv_279 0.5114; wv_280 -0.1289; wv_281 0.1938; wv_282 0.5016; wv_283 0.3943; wv_284 -0.2566; wv_285 2.2229; wv_286 1.9238; wv_287 0.0617; wv_288 0.0705; wv_289 1.2553; wv_290 -0.6910; wv_291 -0.6952; wv_292 -1.2036; wv_293 0.2952; wv_294 -0.9790; wv_295 1.0161; wv_296 0.5869; wv_297 0.0322; wv_298 -0.2054; wv_299 -0.6644; ,in-class_submissions -0.5836; after-class_submisson 0.9317; sharing_outcomes -0.6331; student_discussions -0.2550; learning_groups -0.2466; wv_0 0.2864; wv_1 -1.7140; wv_2 -0.2346; wv_3 0.1071; wv_4 3.1725; wv_5 4.6987; wv_6 -1.2035; wv_7 -1.3016; wv_8 0.2595; wv_9 2.5532; wv_10 0.1190; wv_11 0.2534; wv_12 3.1443; wv_13 0.7520; wv_14 1.2302; wv_15 -1.0838; wv_16 0.4919; wv_17 3.4719; wv_18 0.8619; wv_19 -0.9189; wv_20 -2.3144; wv_21 -3.3322; wv_22 3.1023; wv_23 -1.0305; wv_24 -0.9788; wv_25 -0.7806; wv_26 2.0386; wv_27 2.6401; wv_28 -2.2146; wv_29 2.1762; wv_30 -0.3570; wv_31 -0.9225; wv_32 1.0556; wv_33 0.8934; wv_34 -2.4335; wv_35 3.4321; wv_36 1.7215; wv_37 -0.3108; wv_38 -1.4720; wv_39 4.8706; wv_40 1.2335; wv_41 1.8137; wv_42 3.2373; wv_43 2.6317; wv_44 3.5955; wv_45 -3.2000; wv_46 -2.5347; wv_47 -2.1156; wv_48 0.5578; wv_49 -0.7513; wv_50 0.1570; wv_51 1.0894; wv_52 0.6001; wv_53 -0.5138; wv_54 -1.7432; wv_55 2.2455; wv_56 0.4150; wv_57 -0.1723; wv_58 -1.4837; wv_59 3.3953; wv_60 0.7835; wv_61 1.2231; wv_62 1.2192; wv_63 -1.4448; wv_64 -2.6884; wv_65 -6.0557; wv_66 3.7544; wv_67 -3.2955; wv_68 3.9399; wv_69 3.1200; wv_70 -0.5864; wv_71 -2.0082; wv_72 1.4262; wv_73 1.3822; wv_74 0.0597; wv_75 1.9345; wv_76 -0.2588; wv_77 -1.5074; wv_78 3.2711; wv_79 -3.9533; wv_80 -0.2896; wv_81 -0.7713; wv_82 0.6537; wv_83 -2.6376; wv_84 -0.8906; wv_85 -0.8720; wv_86 -2.3046; wv_87 -0.3209; wv_88 2.3274; wv_89 -2.1040; wv_90 0.8005; wv_91 -4.0755; wv_92 -2.6050; wv_93 -0.4810; wv_94 -2.5227; wv_95 1.6707; wv_96 1.1421; wv_97 -1.5308; wv_98 -0.8517; wv_99 -2.0847; wv_100 -1.7266; wv_101 0.7193; wv_102 0.0494; wv_103 -1.2198; wv_104 1.1583; wv_105 -2.6003; wv_106 0.4736; wv_107 -1.6421; wv_108 -0.3267; wv_109 3.5804; wv_110 1.2650; wv_111 -1.7668; wv_112 3.5473; wv_113 0.3774; wv_114 -2.3305; wv_115 1.6292; wv_116 -1.0996; wv_117 1.2136; wv_118 -3.3821; wv_119 -0.3782; wv_120 4.3073; wv_121 0.2848; wv_122 0.2412; wv_123 1.3257; wv_124 1.4300; wv_125 -1.3743; wv_126 -1.7887; wv_127 -6.9665; wv_128 0.3320; wv_129 -1.0093; wv_130 0.1016; wv_131 0.4667; wv_132 0.5901; wv_133 -2.7846; wv_134 0.1778; wv_135 -2.1490; wv_136 -0.7800; wv_137 3.3046; wv_138 -0.7855; wv_139 3.8054; wv_140 1.4461; wv_141 1.1078; wv_142 3.9128; wv_143 2.8666; wv_144 1.8518; wv_145 -0.9993; wv_146 -0.6599; wv_147 3.5815; wv_148 0.4536; wv_149 -0.0758; wv_150 -3.5400; wv_151 2.1015; wv_152 -2.5311; wv_153 4.0073; wv_154 0.9632; wv_155 1.1212; wv_156 2.0582; wv_157 -1.7636; wv_158 3.5919; wv_159 -1.2975; wv_160 -1.2048; wv_161 -0.0817; wv_162 0.5311; wv_163 -2.3636; wv_164 0.6214; wv_165 -3.0763; wv_166 0.9354; wv_167 1.6868; wv_168 -0.9856; wv_169 -0.5951; wv_170 -2.3737; wv_171 -1.8448; wv_172 3.9130; wv_173 -2.0373; wv_174 -1.9206; wv_175 0.2079; wv_176 1.8231; wv_177 -2.7227; wv_178 -1.9848; wv_179 1.8260; wv_180 -1.8715; wv_181 3.4968; wv_182 1.2561; wv_183 -4.7046; wv_184 0.5692; wv_185 -1.1627; wv_186 -0.4241; wv_187 -1.0702; wv_188 -0.3584; wv_189 2.1638; wv_190 -0.2643; wv_191 -2.9812; wv_192 3.4932; wv_193 3.5059; wv_194 0.7210; wv_195 2.9502; wv_196 -1.7422; wv_197 -2.6367; wv_198 -1.3889; wv_199 3.0740; wv_200 1.7337; wv_201 -0.1728; wv_202 -1.2454; wv_203 0.2724; wv_204 2.2699; wv_205 -2.5580; wv_206 -1.0932; wv_207 -1.3841; wv_208 2.8990; wv_209 -4.3327; wv_210 1.3152; wv_211 3.4148; wv_212 -3.5458; wv_213 -2.1434; wv_214 0.3470; wv_215 -3.3773; wv_216 -5.0857; wv_217 1.2821; wv_218 3.6973; wv_219 2.4654; wv_220 0.1607; wv_221 0.0136; wv_222 0.8032; wv_223 -0.0079; wv_224 1.7728; wv_225 -0.5982; wv_226 0.6522; wv_227 1.9008; wv_228 -4.2237; wv_229 3.9995; wv_230 -0.5984; wv_231 -1.0220; wv_232 1.9524; wv_233 1.1415; wv_234 -2.8139; wv_235 -0.3667; wv_236 -1.2002; wv_237 -0.2470; wv_238 -0.0206; wv_239 -1.9204; wv_240 -3.8563; wv_241 0.7583; wv_242 -0.9300; wv_243 -2.0616; wv_244 0.3272; wv_245 0.5548; wv_246 1.1268; wv_247 -1.9682; wv_248 0.1558; wv_249 1.3505; wv_250 1.5856; wv_251 1.0896; wv_252 -1.0838; wv_253 -3.2128; wv_254 0.2176; wv_255 -1.0075; wv_256 2.7841; wv_257 3.0797; wv_258 -2.9845; wv_259 -1.8033; wv_260 -4.2656; wv_261 -1.8602; wv_262 0.2641; wv_263 0.3284; wv_264 -3.9033; wv_265 0.9228; wv_266 2.2344; wv_267 -1.0487; wv_268 -1.5713; wv_269 3.3092; wv_270 -4.6950; wv_271 0.2022; wv_272 -2.3848; wv_273 1.7143; wv_274 -2.7666; wv_275 -2.8235; wv_276 -0.1143; wv_277 2.7596; wv_278 0.6165; wv_279 -3.9922; wv_280 0.3252; wv_281 3.2884; wv_282 -4.3950; wv_283 1.5655; wv_284 1.5238; wv_285 0.5087; wv_286 1.6002; wv_287 0.7768; wv_288 1.1766; wv_289 -2.9476; wv_290 -2.3590; wv_291 3.4514; wv_292 3.5688; wv_293 1.8732; wv_294 -0.7364; wv_295 -2.5259; wv_296 1.6707; wv_297 0.3239; wv_298 -3.1772; wv_299 4.1357; \n",
       "y: EmptyLabelList\n",
       ",,,,\n",
       "Path: data/artifact-technology-classification"
      ]
     },
     "execution_count": 18,
     "metadata": {},
     "output_type": "execute_result"
    }
   ],
   "source": [
    "# add test\n",
    "tab_data.add_test(TabularList.from_df(test_df, \n",
    "#                                       cat_names=cat_names,\n",
    "                                      cont_names=cont_names,\n",
    "                                      processor = tab_data.train.x.processor))"
   ]
  },
  {
   "cell_type": "markdown",
   "metadata": {},
   "source": [
    "## Integrate image and tabular data"
   ]
  },
  {
   "cell_type": "code",
   "execution_count": 19,
   "metadata": {},
   "outputs": [],
   "source": [
    "integrate_train, integrate_valid, integrate_test = get_imagetabdatasets(image_data, tab_data)"
   ]
  },
  {
   "cell_type": "code",
   "execution_count": 20,
   "metadata": {},
   "outputs": [
    {
     "data": {
      "text/plain": [
       "DataBunch;\n",
       "\n",
       "Train: <image_tabular.dataset.ImageTabDataset object at 0x7fb95c0c79d0>;\n",
       "\n",
       "Valid: <image_tabular.dataset.ImageTabDataset object at 0x7fb95c0c7ad0>;\n",
       "\n",
       "Test: <image_tabular.dataset.ImageTabDataset object at 0x7fb95c0c7b50>"
      ]
     },
     "execution_count": 20,
     "metadata": {},
     "output_type": "execute_result"
    }
   ],
   "source": [
    "# package train, valid, and test datasets into a fastai databunch\n",
    "bs = 32\n",
    "\n",
    "db = DataBunch.create(integrate_train, integrate_valid, integrate_test,\n",
    "                      path=data_path, bs=bs)\n",
    "db"
   ]
  },
  {
   "cell_type": "code",
   "execution_count": 21,
   "metadata": {},
   "outputs": [],
   "source": [
    "# image normalization with imagenet_stats\n",
    "db.norm, db.denorm = normalize_funcs_image_tab(*imagenet_stats)\n",
    "db.add_tfm(db.norm)"
   ]
  },
  {
   "cell_type": "code",
   "execution_count": 22,
   "metadata": {},
   "outputs": [
    {
     "data": {
      "text/plain": [
       "2"
      ]
     },
     "execution_count": 22,
     "metadata": {},
     "output_type": "execute_result"
    }
   ],
   "source": [
    "# check the shape of one batch\n",
    "x, y = next(iter(db.train_dl))\n",
    "len(x)"
   ]
  },
  {
   "cell_type": "code",
   "execution_count": 23,
   "metadata": {},
   "outputs": [
    {
     "data": {
      "text/plain": [
       "torch.Size([32, 3, 128, 128])"
      ]
     },
     "execution_count": 23,
     "metadata": {},
     "output_type": "execute_result"
    }
   ],
   "source": [
    "# images\n",
    "x[0].shape"
   ]
  },
  {
   "cell_type": "code",
   "execution_count": 24,
   "metadata": {},
   "outputs": [
    {
     "data": {
      "text/plain": [
       "(torch.Size([32]), torch.Size([32, 305]))"
      ]
     },
     "execution_count": 24,
     "metadata": {},
     "output_type": "execute_result"
    }
   ],
   "source": [
    "# categorical and continuous tabular data \n",
    "x[1][0].shape, x[1][1].shape"
   ]
  },
  {
   "cell_type": "code",
   "execution_count": 25,
   "metadata": {},
   "outputs": [
    {
     "data": {
      "text/plain": [
       "torch.Size([32])"
      ]
     },
     "execution_count": 25,
     "metadata": {},
     "output_type": "execute_result"
    }
   ],
   "source": [
    "# targets\n",
    "y.shape"
   ]
  },
  {
   "cell_type": "markdown",
   "metadata": {},
   "source": [
    "## Model that trains on image and tabular data simultaneously"
   ]
  },
  {
   "cell_type": "code",
   "execution_count": 26,
   "metadata": {},
   "outputs": [],
   "source": [
    "# cnn model for images, use Resnet50 as an example\n",
    "cnn_arch = models.resnet50\n",
    "\n",
    "# cnn_out_sz is the output size of the cnn model that will be concatenated with tabular model output\n",
    "cnn_out_sz = 256\n",
    "\n",
    "# use fastai functions to get a cnn model\n",
    "image_data_db = image_data.databunch()\n",
    "image_data_db.c = cnn_out_sz\n",
    "cnn_learn = cnn_learner(image_data_db, cnn_arch, ps=0.2)\n",
    "cnn_model = cnn_learn.model"
   ]
  },
  {
   "cell_type": "code",
   "execution_count": 27,
   "metadata": {},
   "outputs": [
    {
     "data": {
      "text/plain": [
       "TabularModel(\n",
       "  (embeds): ModuleList()\n",
       "  (emb_drop): Dropout(p=0.0, inplace=False)\n",
       "  (bn_cont): BatchNorm1d(305, eps=1e-05, momentum=0.1, affine=True, track_running_stats=True)\n",
       "  (layers): Sequential(\n",
       "    (0): Linear(in_features=305, out_features=8, bias=True)\n",
       "    (1): ReLU(inplace=True)\n",
       "    (2): BatchNorm1d(8, eps=1e-05, momentum=0.1, affine=True, track_running_stats=True)\n",
       "    (3): Dropout(p=0.2, inplace=False)\n",
       "    (4): Linear(in_features=8, out_features=8, bias=True)\n",
       "  )\n",
       ")"
      ]
     },
     "execution_count": 27,
     "metadata": {},
     "output_type": "execute_result"
    }
   ],
   "source": [
    "# get embedding sizes of categorical data\n",
    "emb_szs = tab_data.train.get_emb_szs()\n",
    "\n",
    "# output size of the tabular model that will be concatenated with cnn model output\n",
    "tab_out_sz = 8\n",
    "\n",
    "# use fastai functions to get a tabular model\n",
    "tabular_model = TabularModel(emb_szs, len(cont_names), out_sz=tab_out_sz, layers=[8], ps=0.2)\n",
    "tabular_model"
   ]
  },
  {
   "cell_type": "code",
   "execution_count": 28,
   "metadata": {},
   "outputs": [],
   "source": [
    "# get an integrated model that combines the two components and concatenate their outputs\n",
    "# which will pass through additional fully connected layers\n",
    "integrate_model = CNNTabularModel(cnn_model,\n",
    "                                  tabular_model,\n",
    "                                  layers = [cnn_out_sz + tab_out_sz, 32],\n",
    "                                  ps=0.2,\n",
    "                                  out_sz=2).to(device)"
   ]
  },
  {
   "cell_type": "code",
   "execution_count": 29,
   "metadata": {},
   "outputs": [
    {
     "data": {
      "text/plain": [
       "torch.Size([32, 2])"
      ]
     },
     "execution_count": 29,
     "metadata": {},
     "output_type": "execute_result"
    }
   ],
   "source": [
    "# check model output dimension, should be (bs, 2)\n",
    "integrate_model(*x).shape"
   ]
  },
  {
   "cell_type": "code",
   "execution_count": 30,
   "metadata": {},
   "outputs": [],
   "source": [
    "# adjust loss function weight because the dataset is extremely unbalanced\n",
    "weights = [1/(1-train_df[\"target\"].mean()), 1/train_df[\"target\"].mean()]\n",
    "loss_func = CrossEntropyFlat(weight=torch.FloatTensor(weights).to(device))"
   ]
  },
  {
   "cell_type": "code",
   "execution_count": 31,
   "metadata": {},
   "outputs": [],
   "source": [
    "# package everything in a fastai learner, add auc roc score as a metric\n",
    "learn = Learner(db, integrate_model, metrics=[accuracy, ROCAUC()], loss_func=loss_func)"
   ]
  },
  {
   "cell_type": "code",
   "execution_count": 32,
   "metadata": {},
   "outputs": [],
   "source": [
    "# organize layer groups in order to use differential learning rates provided by fastai\n",
    "# the first two layer groups are earlier layers of resnet\n",
    "# the last layer group consists of the fully connected layers of cnn model, tabular model,\n",
    "# and final fully connected layers for the concatenated data\n",
    "learn.layer_groups = [nn.Sequential(*flatten_model(cnn_learn.layer_groups[0])),\n",
    "                      nn.Sequential(*flatten_model(cnn_learn.layer_groups[1])),\n",
    "                      nn.Sequential(*(flatten_model(cnn_learn.layer_groups[2]) +\n",
    "                                      flatten_model(integrate_model.tabular_model) +\n",
    "                                      flatten_model(integrate_model.layers)))]"
   ]
  },
  {
   "cell_type": "markdown",
   "metadata": {},
   "source": [
    "## Training"
   ]
  },
  {
   "cell_type": "code",
   "execution_count": 34,
   "metadata": {
    "scrolled": true
   },
   "outputs": [
    {
     "data": {
      "text/html": [
       "\n",
       "    <div>\n",
       "        <style>\n",
       "            /* Turns off some styling */\n",
       "            progress {\n",
       "                /* gets rid of default border in Firefox and Opera. */\n",
       "                border: none;\n",
       "                /* Needs to be in here for Safari polyfill so background images work as expected. */\n",
       "                background-size: auto;\n",
       "            }\n",
       "            .progress-bar-interrupted, .progress-bar-interrupted::-webkit-progress-bar {\n",
       "                background: #F44336;\n",
       "            }\n",
       "        </style>\n",
       "      <progress value='31' class='' max='34' style='width:300px; height:20px; vertical-align: middle;'></progress>\n",
       "      91.18% [31/34 03:18<00:19]\n",
       "    </div>\n",
       "    \n",
       "<table border=\"1\" class=\"dataframe\">\n",
       "  <thead>\n",
       "    <tr style=\"text-align: left;\">\n",
       "      <th>epoch</th>\n",
       "      <th>train_loss</th>\n",
       "      <th>valid_loss</th>\n",
       "      <th>accuracy</th>\n",
       "      <th>rocauc</th>\n",
       "      <th>time</th>\n",
       "    </tr>\n",
       "  </thead>\n",
       "  <tbody>\n",
       "    <tr>\n",
       "      <td>0</td>\n",
       "      <td>0.706614</td>\n",
       "      <td>#na#</td>\n",
       "      <td>00:05</td>\n",
       "    </tr>\n",
       "    <tr>\n",
       "      <td>1</td>\n",
       "      <td>0.728663</td>\n",
       "      <td>#na#</td>\n",
       "      <td>00:06</td>\n",
       "    </tr>\n",
       "    <tr>\n",
       "      <td>2</td>\n",
       "      <td>0.752285</td>\n",
       "      <td>#na#</td>\n",
       "      <td>00:07</td>\n",
       "    </tr>\n",
       "    <tr>\n",
       "      <td>3</td>\n",
       "      <td>0.737433</td>\n",
       "      <td>#na#</td>\n",
       "      <td>00:05</td>\n",
       "    </tr>\n",
       "    <tr>\n",
       "      <td>4</td>\n",
       "      <td>0.743581</td>\n",
       "      <td>#na#</td>\n",
       "      <td>00:07</td>\n",
       "    </tr>\n",
       "    <tr>\n",
       "      <td>5</td>\n",
       "      <td>0.746381</td>\n",
       "      <td>#na#</td>\n",
       "      <td>00:05</td>\n",
       "    </tr>\n",
       "    <tr>\n",
       "      <td>6</td>\n",
       "      <td>0.747572</td>\n",
       "      <td>#na#</td>\n",
       "      <td>00:06</td>\n",
       "    </tr>\n",
       "    <tr>\n",
       "      <td>7</td>\n",
       "      <td>0.747771</td>\n",
       "      <td>#na#</td>\n",
       "      <td>00:06</td>\n",
       "    </tr>\n",
       "    <tr>\n",
       "      <td>8</td>\n",
       "      <td>0.737601</td>\n",
       "      <td>#na#</td>\n",
       "      <td>00:06</td>\n",
       "    </tr>\n",
       "    <tr>\n",
       "      <td>9</td>\n",
       "      <td>0.732506</td>\n",
       "      <td>#na#</td>\n",
       "      <td>00:06</td>\n",
       "    </tr>\n",
       "    <tr>\n",
       "      <td>10</td>\n",
       "      <td>0.715781</td>\n",
       "      <td>#na#</td>\n",
       "      <td>00:06</td>\n",
       "    </tr>\n",
       "    <tr>\n",
       "      <td>11</td>\n",
       "      <td>0.705009</td>\n",
       "      <td>#na#</td>\n",
       "      <td>00:05</td>\n",
       "    </tr>\n",
       "    <tr>\n",
       "      <td>12</td>\n",
       "      <td>0.681779</td>\n",
       "      <td>#na#</td>\n",
       "      <td>00:06</td>\n",
       "    </tr>\n",
       "    <tr>\n",
       "      <td>13</td>\n",
       "      <td>0.652270</td>\n",
       "      <td>#na#</td>\n",
       "      <td>00:06</td>\n",
       "    </tr>\n",
       "    <tr>\n",
       "      <td>14</td>\n",
       "      <td>0.623422</td>\n",
       "      <td>#na#</td>\n",
       "      <td>00:06</td>\n",
       "    </tr>\n",
       "    <tr>\n",
       "      <td>15</td>\n",
       "      <td>0.587627</td>\n",
       "      <td>#na#</td>\n",
       "      <td>00:05</td>\n",
       "    </tr>\n",
       "    <tr>\n",
       "      <td>16</td>\n",
       "      <td>0.554393</td>\n",
       "      <td>#na#</td>\n",
       "      <td>00:06</td>\n",
       "    </tr>\n",
       "    <tr>\n",
       "      <td>17</td>\n",
       "      <td>0.521126</td>\n",
       "      <td>#na#</td>\n",
       "      <td>00:07</td>\n",
       "    </tr>\n",
       "    <tr>\n",
       "      <td>18</td>\n",
       "      <td>0.490806</td>\n",
       "      <td>#na#</td>\n",
       "      <td>00:07</td>\n",
       "    </tr>\n",
       "    <tr>\n",
       "      <td>19</td>\n",
       "      <td>0.460887</td>\n",
       "      <td>#na#</td>\n",
       "      <td>00:06</td>\n",
       "    </tr>\n",
       "    <tr>\n",
       "      <td>20</td>\n",
       "      <td>0.430075</td>\n",
       "      <td>#na#</td>\n",
       "      <td>00:06</td>\n",
       "    </tr>\n",
       "    <tr>\n",
       "      <td>21</td>\n",
       "      <td>0.399696</td>\n",
       "      <td>#na#</td>\n",
       "      <td>00:06</td>\n",
       "    </tr>\n",
       "    <tr>\n",
       "      <td>22</td>\n",
       "      <td>0.371838</td>\n",
       "      <td>#na#</td>\n",
       "      <td>00:05</td>\n",
       "    </tr>\n",
       "    <tr>\n",
       "      <td>23</td>\n",
       "      <td>0.350075</td>\n",
       "      <td>#na#</td>\n",
       "      <td>00:05</td>\n",
       "    </tr>\n",
       "    <tr>\n",
       "      <td>24</td>\n",
       "      <td>0.341380</td>\n",
       "      <td>#na#</td>\n",
       "      <td>00:06</td>\n",
       "    </tr>\n",
       "    <tr>\n",
       "      <td>25</td>\n",
       "      <td>0.374366</td>\n",
       "      <td>#na#</td>\n",
       "      <td>00:07</td>\n",
       "    </tr>\n",
       "    <tr>\n",
       "      <td>26</td>\n",
       "      <td>0.367675</td>\n",
       "      <td>#na#</td>\n",
       "      <td>00:06</td>\n",
       "    </tr>\n",
       "    <tr>\n",
       "      <td>27</td>\n",
       "      <td>0.366184</td>\n",
       "      <td>#na#</td>\n",
       "      <td>00:05</td>\n",
       "    </tr>\n",
       "    <tr>\n",
       "      <td>28</td>\n",
       "      <td>0.352095</td>\n",
       "      <td>#na#</td>\n",
       "      <td>00:05</td>\n",
       "    </tr>\n",
       "    <tr>\n",
       "      <td>29</td>\n",
       "      <td>0.429764</td>\n",
       "      <td>#na#</td>\n",
       "      <td>00:06</td>\n",
       "    </tr>\n",
       "    <tr>\n",
       "      <td>30</td>\n",
       "      <td>0.761615</td>\n",
       "      <td>#na#</td>\n",
       "      <td>00:06</td>\n",
       "    </tr>\n",
       "  </tbody>\n",
       "</table><p>\n",
       "\n",
       "    <div>\n",
       "        <style>\n",
       "            /* Turns off some styling */\n",
       "            progress {\n",
       "                /* gets rid of default border in Firefox and Opera. */\n",
       "                border: none;\n",
       "                /* Needs to be in here for Safari polyfill so background images work as expected. */\n",
       "                background-size: auto;\n",
       "            }\n",
       "            .progress-bar-interrupted, .progress-bar-interrupted::-webkit-progress-bar {\n",
       "                background: #F44336;\n",
       "            }\n",
       "        </style>\n",
       "      <progress value='0' class='' max='3' style='width:300px; height:20px; vertical-align: middle;'></progress>\n",
       "      0.00% [0/3 00:00<00:00]\n",
       "    </div>\n",
       "    "
      ],
      "text/plain": [
       "<IPython.core.display.HTML object>"
      ]
     },
     "metadata": {},
     "output_type": "display_data"
    },
    {
     "name": "stdout",
     "output_type": "stream",
     "text": [
      "LR Finder is complete, type {learner_name}.recorder.plot() to see the graph.\n"
     ]
    },
    {
     "data": {
      "image/png": "[encoded data removed]",
      "text/plain": [
       "<Figure size 432x288 with 1 Axes>"
      ]
     },
     "metadata": {
      "needs_background": "light"
     },
     "output_type": "display_data"
    }
   ],
   "source": [
    "# find learning rate to train the last layer group first \n",
    "learn.freeze()\n",
    "learn.lr_find()\n",
    "learn.recorder.plot()"
   ]
  },
  {
   "cell_type": "code",
   "execution_count": 33,
   "metadata": {
    "scrolled": true
   },
   "outputs": [
    {
     "data": {
      "text/html": [
       "<table border=\"1\" class=\"dataframe\">\n",
       "  <thead>\n",
       "    <tr style=\"text-align: left;\">\n",
       "      <th>epoch</th>\n",
       "      <th>train_loss</th>\n",
       "      <th>valid_loss</th>\n",
       "      <th>accuracy</th>\n",
       "      <th>rocauc</th>\n",
       "      <th>time</th>\n",
       "    </tr>\n",
       "  </thead>\n",
       "  <tbody>\n",
       "    <tr>\n",
       "      <td>0</td>\n",
       "      <td>0.781026</td>\n",
       "      <td>0.718998</td>\n",
       "      <td>0.400000</td>\n",
       "      <td>0.373737</td>\n",
       "      <td>00:09</td>\n",
       "    </tr>\n",
       "    <tr>\n",
       "      <td>1</td>\n",
       "      <td>0.785482</td>\n",
       "      <td>0.687236</td>\n",
       "      <td>0.450000</td>\n",
       "      <td>0.565657</td>\n",
       "      <td>00:08</td>\n",
       "    </tr>\n",
       "    <tr>\n",
       "      <td>2</td>\n",
       "      <td>0.757815</td>\n",
       "      <td>0.664192</td>\n",
       "      <td>0.550000</td>\n",
       "      <td>0.707071</td>\n",
       "      <td>00:09</td>\n",
       "    </tr>\n",
       "    <tr>\n",
       "      <td>3</td>\n",
       "      <td>0.707414</td>\n",
       "      <td>0.642579</td>\n",
       "      <td>0.600000</td>\n",
       "      <td>0.737374</td>\n",
       "      <td>00:08</td>\n",
       "    </tr>\n",
       "    <tr>\n",
       "      <td>4</td>\n",
       "      <td>0.657403</td>\n",
       "      <td>0.601325</td>\n",
       "      <td>0.700000</td>\n",
       "      <td>0.848485</td>\n",
       "      <td>00:08</td>\n",
       "    </tr>\n",
       "    <tr>\n",
       "      <td>5</td>\n",
       "      <td>0.614847</td>\n",
       "      <td>0.554022</td>\n",
       "      <td>0.700000</td>\n",
       "      <td>0.878788</td>\n",
       "      <td>00:08</td>\n",
       "    </tr>\n",
       "    <tr>\n",
       "      <td>6</td>\n",
       "      <td>0.578914</td>\n",
       "      <td>0.509489</td>\n",
       "      <td>0.750000</td>\n",
       "      <td>0.919192</td>\n",
       "      <td>00:07</td>\n",
       "    </tr>\n",
       "    <tr>\n",
       "      <td>7</td>\n",
       "      <td>0.546134</td>\n",
       "      <td>0.470240</td>\n",
       "      <td>0.800000</td>\n",
       "      <td>0.959596</td>\n",
       "      <td>00:08</td>\n",
       "    </tr>\n",
       "    <tr>\n",
       "      <td>8</td>\n",
       "      <td>0.518247</td>\n",
       "      <td>0.437759</td>\n",
       "      <td>0.800000</td>\n",
       "      <td>0.969697</td>\n",
       "      <td>00:08</td>\n",
       "    </tr>\n",
       "    <tr>\n",
       "      <td>9</td>\n",
       "      <td>0.496576</td>\n",
       "      <td>0.423093</td>\n",
       "      <td>0.850000</td>\n",
       "      <td>0.979798</td>\n",
       "      <td>00:08</td>\n",
       "    </tr>\n",
       "  </tbody>\n",
       "</table>"
      ],
      "text/plain": [
       "<IPython.core.display.HTML object>"
      ]
     },
     "metadata": {},
     "output_type": "display_data"
    }
   ],
   "source": [
    "# train\n",
    "learn.fit_one_cycle(10, 1e-4)"
   ]
  },
  {
   "cell_type": "code",
   "execution_count": 34,
   "metadata": {},
   "outputs": [
    {
     "data": {
      "text/html": [
       "<table border=\"1\" class=\"dataframe\">\n",
       "  <thead>\n",
       "    <tr style=\"text-align: left;\">\n",
       "      <th>epoch</th>\n",
       "      <th>train_loss</th>\n",
       "      <th>valid_loss</th>\n",
       "      <th>accuracy</th>\n",
       "      <th>rocauc</th>\n",
       "      <th>time</th>\n",
       "    </tr>\n",
       "  </thead>\n",
       "  <tbody>\n",
       "    <tr>\n",
       "      <td>0</td>\n",
       "      <td>0.372290</td>\n",
       "      <td>0.409358</td>\n",
       "      <td>0.850000</td>\n",
       "      <td>0.989899</td>\n",
       "      <td>00:08</td>\n",
       "    </tr>\n",
       "    <tr>\n",
       "      <td>1</td>\n",
       "      <td>0.342217</td>\n",
       "      <td>0.386340</td>\n",
       "      <td>0.900000</td>\n",
       "      <td>0.989899</td>\n",
       "      <td>00:09</td>\n",
       "    </tr>\n",
       "    <tr>\n",
       "      <td>2</td>\n",
       "      <td>0.328985</td>\n",
       "      <td>0.367895</td>\n",
       "      <td>0.900000</td>\n",
       "      <td>1.000000</td>\n",
       "      <td>00:09</td>\n",
       "    </tr>\n",
       "    <tr>\n",
       "      <td>3</td>\n",
       "      <td>0.315038</td>\n",
       "      <td>0.347436</td>\n",
       "      <td>0.900000</td>\n",
       "      <td>1.000000</td>\n",
       "      <td>00:08</td>\n",
       "    </tr>\n",
       "    <tr>\n",
       "      <td>4</td>\n",
       "      <td>0.311147</td>\n",
       "      <td>0.346869</td>\n",
       "      <td>0.900000</td>\n",
       "      <td>1.000000</td>\n",
       "      <td>00:09</td>\n",
       "    </tr>\n",
       "  </tbody>\n",
       "</table>"
      ],
      "text/plain": [
       "<IPython.core.display.HTML object>"
      ]
     },
     "metadata": {},
     "output_type": "display_data"
    }
   ],
   "source": [
    "# unfreeze all layer groups to train the entire model using differential learning rates\n",
    "learn.unfreeze()\n",
    "learn.fit_one_cycle(5, slice(1e-6, 1e-4))"
   ]
  },
  {
   "cell_type": "markdown",
   "metadata": {},
   "source": [
    "The model achieved an ROC AUC score of about 0.87 on the validation set."
   ]
  },
  {
   "cell_type": "markdown",
   "metadata": {},
   "source": [
    "## Prediction"
   ]
  },
  {
   "cell_type": "code",
   "execution_count": 36,
   "metadata": {
    "scrolled": true
   },
   "outputs": [
    {
     "data": {
      "text/html": [],
      "text/plain": [
       "<IPython.core.display.HTML object>"
      ]
     },
     "metadata": {},
     "output_type": "display_data"
    }
   ],
   "source": [
    "# make predictions for the test set\n",
    "preds, y = learn.get_preds(DatasetType.Test)"
   ]
  },
  {
   "cell_type": "code",
   "execution_count": 37,
   "metadata": {},
   "outputs": [
    {
     "data": {
      "text/plain": [
       "tensor([[0.9787, 0.0213],\n",
       "        [0.0717, 0.9283],\n",
       "        [0.9241, 0.0759],\n",
       "        [0.9301, 0.0699],\n",
       "        [0.1979, 0.8021],\n",
       "        [0.6002, 0.3998],\n",
       "        [0.5785, 0.4215],\n",
       "        [0.9056, 0.0944],\n",
       "        [0.1367, 0.8633],\n",
       "        [0.6567, 0.3433],\n",
       "        [0.0766, 0.9234],\n",
       "        [0.8733, 0.1267],\n",
       "        [0.8656, 0.1344],\n",
       "        [0.8026, 0.1974],\n",
       "        [0.9158, 0.0842],\n",
       "        [0.7097, 0.2903],\n",
       "        [0.9318, 0.0682],\n",
       "        [0.2460, 0.7540],\n",
       "        [0.5899, 0.4101],\n",
       "        [0.0373, 0.9627],\n",
       "        [0.9816, 0.0184],\n",
       "        [0.0801, 0.9199],\n",
       "        [0.1329, 0.8671],\n",
       "        [0.8837, 0.1163],\n",
       "        [0.1553, 0.8447],\n",
       "        [0.3889, 0.6111]])"
      ]
     },
     "execution_count": 37,
     "metadata": {},
     "output_type": "execute_result"
    }
   ],
   "source": [
    "preds"
   ]
  },
  {
   "cell_type": "code",
   "execution_count": null,
   "metadata": {},
   "outputs": [],
   "source": []
  }
 ],
 "metadata": {
  "kernelspec": {
   "display_name": "imgTabular",
   "language": "python",
   "name": "imgtabular"
  },
  "language_info": {
   "codemirror_mode": {
    "name": "ipython",
    "version": 3
   },
   "file_extension": ".py",
   "mimetype": "text/x-python",
   "name": "python",
   "nbconvert_exporter": "python",
   "pygments_lexer": "ipython3",
   "version": "3.7.7"
  }
 },
 "nbformat": 4,
 "nbformat_minor": 2
}
